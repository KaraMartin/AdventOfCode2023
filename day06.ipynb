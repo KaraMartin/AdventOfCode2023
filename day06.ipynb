{
 "cells": [
  {
   "cell_type": "code",
   "execution_count": 60,
   "metadata": {},
   "outputs": [
    {
     "name": "stdout",
     "output_type": "stream",
     "text": [
      "0 Time:      7  15   30\n",
      "1 Distance:  9  40  200\n"
     ]
    }
   ],
   "source": [
    "# Advent of Code 2023\n",
    "# Day 6 Problem 1\n",
    "import re\n",
    "import functools\n",
    "\n",
    "with open(\"aoc_06_input.txt\") as f:\n",
    "    A = f.read().strip().split(\"\\n\")\n",
    "\n",
    "# c+p test case here\n",
    "TEST = \"\"\"Time:      7  15   30\n",
    "Distance:  9  40  200\"\"\".strip().split(\"\\n\")\n",
    "\n",
    "for i, line in enumerate(TEST):\n",
    "    print(i, line)\n"
   ]
  },
  {
   "cell_type": "code",
   "execution_count": 61,
   "metadata": {},
   "outputs": [],
   "source": [
    "def parseInput(lines):\n",
    "    times = [int(s) for s in re.findall(r'\\d+', lines[0])]\n",
    "    dists = [int(s) for s in re.findall(r'\\d+', lines[1])]\n",
    "    return times, dists\n"
   ]
  },
  {
   "cell_type": "code",
   "execution_count": 62,
   "metadata": {},
   "outputs": [],
   "source": [
    "def p1(inp):\n",
    "    T, D = parseInput(inp)\n",
    "    num_races = len(T)\n",
    "    times = '\\t'.join(str(t) for t in T)\n",
    "    dists = '\\t'.join(str(d) for d in D)\n",
    "    #print(f\"    Times: {times}\")\n",
    "    #print(f\"Distances: {dists}\")\n",
    "\n",
    "    ways_to_win = [0 for _ in range(num_races)]\n",
    "\n",
    "    for n in range(num_races):\n",
    "        potential_speeds = list(range(T[n]))\n",
    "        potential_distances =  list(map(lambda x : x*(T[n] - x), potential_speeds ))\n",
    "        wins = [dd > D[n] for dd in potential_distances]\n",
    "        ways_to_win[n] = sum(wins)\n",
    "    return functools.reduce(lambda x, y: x*y, ways_to_win)\n",
    "            "
   ]
  },
  {
   "cell_type": "code",
   "execution_count": 63,
   "metadata": {},
   "outputs": [
    {
     "data": {
      "text/plain": [
       "288"
      ]
     },
     "execution_count": 63,
     "metadata": {},
     "output_type": "execute_result"
    }
   ],
   "source": [
    "# expected output: 288\n",
    "p1(TEST)\n"
   ]
  },
  {
   "cell_type": "code",
   "execution_count": 64,
   "metadata": {},
   "outputs": [
    {
     "data": {
      "text/plain": [
       "345015"
      ]
     },
     "execution_count": 64,
     "metadata": {},
     "output_type": "execute_result"
    }
   ],
   "source": [
    "p1(A)\n"
   ]
  },
  {
   "cell_type": "code",
   "execution_count": 65,
   "metadata": {},
   "outputs": [],
   "source": [
    "def parse_input_p2(lines):\n",
    "    times = [s for s in re.findall(r'\\d+', lines[0])]\n",
    "    dists = [s for s in re.findall(r'\\d+', lines[1])]\n",
    "    return int(''.join(times)), int(''.join(dists))\n"
   ]
  },
  {
   "cell_type": "code",
   "execution_count": 78,
   "metadata": {},
   "outputs": [],
   "source": [
    "def p2(inp):\n",
    "    time, distance = parse_input_p2(inp)\n",
    "    #print(f\"    Time: {time}\")\n",
    "    #print(f\"Distance: {distance}\")\n",
    "    potential_speeds = list(range(time))\n",
    "    potential_distances =  list(map(lambda x : x*(time - x), potential_speeds ))\n",
    "    wins = [dd > distance for dd in potential_distances]\n",
    "    return sum(wins)\n"
   ]
  },
  {
   "cell_type": "code",
   "execution_count": 79,
   "metadata": {},
   "outputs": [
    {
     "name": "stdout",
     "output_type": "stream",
     "text": [
      "71503\n"
     ]
    }
   ],
   "source": [
    "# make sure this is working\n",
    "parse_input_p2(TEST)\n",
    "# expected output: 71503\n",
    "print(p2(TEST))\n"
   ]
  },
  {
   "cell_type": "code",
   "execution_count": 80,
   "metadata": {},
   "outputs": [
    {
     "data": {
      "text/plain": [
       "42588603"
      ]
     },
     "execution_count": 80,
     "metadata": {},
     "output_type": "execute_result"
    }
   ],
   "source": [
    "p2(A)\n"
   ]
  },
  {
   "cell_type": "code",
   "execution_count": 81,
   "metadata": {},
   "outputs": [],
   "source": [
    "# this is actually a little faster than above from what I can tell\n",
    "def p2_condensed(inp):\n",
    "    time, distance = parse_input_p2(inp)\n",
    "    return sum([dd > distance for dd in list(map(lambda x : x*(time - x), list(range(time)) ))])\n"
   ]
  },
  {
   "cell_type": "code",
   "execution_count": 82,
   "metadata": {},
   "outputs": [
    {
     "data": {
      "text/plain": [
       "42588603"
      ]
     },
     "execution_count": 82,
     "metadata": {},
     "output_type": "execute_result"
    }
   ],
   "source": [
    "p2_condensed(A)\n"
   ]
  },
  {
   "cell_type": "code",
   "execution_count": null,
   "metadata": {},
   "outputs": [],
   "source": []
  }
 ],
 "metadata": {
  "kernelspec": {
   "display_name": "Python 3",
   "language": "python",
   "name": "python3"
  },
  "language_info": {
   "codemirror_mode": {
    "name": "ipython",
    "version": 3
   },
   "file_extension": ".py",
   "mimetype": "text/x-python",
   "name": "python",
   "nbconvert_exporter": "python",
   "pygments_lexer": "ipython3",
   "version": "3.11.0"
  }
 },
 "nbformat": 4,
 "nbformat_minor": 2
}
