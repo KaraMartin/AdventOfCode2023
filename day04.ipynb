{
 "cells": [
  {
   "cell_type": "code",
   "execution_count": 41,
   "metadata": {},
   "outputs": [
    {
     "name": "stdout",
     "output_type": "stream",
     "text": [
      "Card 1: 41 48 83 86 17 | 83 86  6 31 17  9 48 53\n",
      "Card 2: 13 32 20 16 61 | 61 30 68 82 17 32 24 19\n",
      "Card 3:  1 21 53 59 44 | 69 82 63 72 16 21 14  1\n",
      "Card 4: 41 92 73 84 69 | 59 84 76 51 58  5 54 83\n",
      "Card 5: 87 83 26 28 32 | 88 30 70 12 93 22 82 36\n",
      "Card 6: 31 18 13 56 72 | 74 77 10 23 35 67 36 11\n"
     ]
    }
   ],
   "source": [
    "# Advent of Code 2023\n",
    "# Day 4 Problem 1\n",
    "\n",
    "with open(\"aoc_04_input.txt\") as f:\n",
    "    A = f.read().strip().split(\"\\n\")\n",
    "\n",
    "# c+p test case here\n",
    "TEST = \"\"\"Card 1: 41 48 83 86 17 | 83 86  6 31 17  9 48 53\n",
    "Card 2: 13 32 20 16 61 | 61 30 68 82 17 32 24 19\n",
    "Card 3:  1 21 53 59 44 | 69 82 63 72 16 21 14  1\n",
    "Card 4: 41 92 73 84 69 | 59 84 76 51 58  5 54 83\n",
    "Card 5: 87 83 26 28 32 | 88 30 70 12 93 22 82 36\n",
    "Card 6: 31 18 13 56 72 | 74 77 10 23 35 67 36 11\"\"\".strip().split(\"\\n\")\n",
    "\n",
    "for line in TEST:\n",
    "    print(line)"
   ]
  },
  {
   "cell_type": "code",
   "execution_count": 42,
   "metadata": {},
   "outputs": [],
   "source": [
    "# problem helper functions here\n",
    "\n",
    "def parse(inp):\n",
    "    cards = []\n",
    "    for line in inp:\n",
    "        # Clean up whitespace and chop up the line\n",
    "        line = line.replace(\"   \", \" \")\n",
    "        line = line.replace(\"  \", \" \")\n",
    "        a, b = line.split(\": \")\n",
    "        c, d = b.split(\" | \")\n",
    "\n",
    "        num = int(a.split(\" \")[1])\n",
    "        win = [int(n) for n in c.split(\" \")]\n",
    "        cand = [int(n) for n in d.split(\" \")]\n",
    "        cards.append([num,win,cand])\n",
    "    return cards\n",
    "\n",
    "def p1(lines):\n",
    "    s = 0\n",
    "    nums = parse(lines)\n",
    "    for _, wins, cands in nums:\n",
    "        hits = [c in wins for c in cands]\n",
    "        s += 2**(sum(hits)-1) if any(hits) else 0\n",
    "    return s"
   ]
  },
  {
   "cell_type": "code",
   "execution_count": 43,
   "metadata": {},
   "outputs": [
    {
     "name": "stdout",
     "output_type": "stream",
     "text": [
      "  Test:\t13\n",
      "Part 1:\t20117\n"
     ]
    }
   ],
   "source": [
    "# expected output: 13\n",
    "print(f\"  Test:\\t{p1(TEST)}\")\n",
    "print(f\"Part 1:\\t{p1(A)}\")"
   ]
  },
  {
   "cell_type": "code",
   "execution_count": 44,
   "metadata": {},
   "outputs": [],
   "source": [
    "# Part 2\n",
    "def p2(lines):\n",
    "    nums = parse(lines)\n",
    "    for idx,num in enumerate(nums): \n",
    "        nums[idx].append(1)\n",
    "    \n",
    "    s = 0\n",
    "    for n, wins, cands, count in nums:\n",
    "        W = sum([c in wins for c in cands])\n",
    "        if W:\n",
    "            for i in range(1, W+1):\n",
    "                nums[n-1+i][3] += count\n",
    "        s += count\n",
    "    return s"
   ]
  },
  {
   "cell_type": "code",
   "execution_count": 45,
   "metadata": {},
   "outputs": [
    {
     "name": "stdout",
     "output_type": "stream",
     "text": [
      "  Test:\t30\n",
      "Part 2:\t13768818\n"
     ]
    }
   ],
   "source": [
    "# expected output: 30\n",
    "print(f\"  Test:\\t{p2(TEST)}\")\n",
    "print(f\"Part 2:\\t{p2(A)}\")\n",
    "# done by 12:30am :)"
   ]
  }
 ],
 "metadata": {
  "kernelspec": {
   "display_name": "Python 3",
   "language": "python",
   "name": "python3"
  },
  "language_info": {
   "codemirror_mode": {
    "name": "ipython",
    "version": 3
   },
   "file_extension": ".py",
   "mimetype": "text/x-python",
   "name": "python",
   "nbconvert_exporter": "python",
   "pygments_lexer": "ipython3",
   "version": "3.11.0"
  }
 },
 "nbformat": 4,
 "nbformat_minor": 2
}
