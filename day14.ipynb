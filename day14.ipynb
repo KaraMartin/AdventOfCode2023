{
 "cells": [
  {
   "cell_type": "code",
   "execution_count": 1,
   "metadata": {},
   "outputs": [
    {
     "name": "stdout",
     "output_type": "stream",
     "text": [
      "   0123456789\n",
      "0: O....#....\n",
      "1: O.OO#....#\n",
      "2: .....##...\n",
      "3: OO.#O....O\n",
      "4: .O.....O#.\n",
      "5: O.#..O.#.#\n",
      "6: ..O..#O..O\n",
      "7: .......O..\n",
      "8: #....###..\n",
      "9: #OO..#....\n"
     ]
    }
   ],
   "source": [
    "# Advent of Code 2023\n",
    "# Day 14 Problem 1\n",
    "import re\n",
    "from collections import Counter\n",
    "import functools\n",
    "\n",
    "with open(\"aoc_14_input.txt\") as f:\n",
    "    A = f.read().strip().split(\"\\n\")\n",
    "\n",
    "# c+p test case here\n",
    "TEST = \"\"\"O....#....\n",
    "O.OO#....#\n",
    ".....##...\n",
    "OO.#O....O\n",
    ".O.....O#.\n",
    "O.#..O.#.#\n",
    "..O..#O..O\n",
    ".......O..\n",
    "#....###..\n",
    "#OO..#....\"\"\".strip().split(\"\\n\")\n",
    "\n",
    "print(\"  \",\"\".join(str(i) for i in range(10)))\n",
    "for i, line in enumerate(TEST):\n",
    "    print(f\"{i}: {line}\")"
   ]
  },
  {
   "cell_type": "code",
   "execution_count": 2,
   "metadata": {},
   "outputs": [],
   "source": [
    "def parse(inp):\n",
    "    return [\"\".join(row) for row in list(zip(*inp[::-1]))]\n",
    "\n",
    "def roll(row):\n",
    "    res = 0\n",
    "    rolling = 0\n",
    "    for i,c in enumerate(row, start=1):\n",
    "        if c == \"O\":\n",
    "            rolling += 1\n",
    "        if c == \"#\":\n",
    "            for j in range(rolling):\n",
    "                res += i - 1 - j\n",
    "                rolling = 0\n",
    "    if rolling:\n",
    "        R = len(row)\n",
    "        for j in range(rolling):\n",
    "            res += R - j\n",
    "    return res\n",
    "\n",
    "def p1(inp):\n",
    "    rocks = parse(inp)\n",
    "    res = 0\n",
    "    for row in rocks:\n",
    "        res += roll(row)\n",
    "    return res"
   ]
  },
  {
   "cell_type": "code",
   "execution_count": 3,
   "metadata": {},
   "outputs": [
    {
     "data": {
      "text/plain": [
       "136"
      ]
     },
     "execution_count": 3,
     "metadata": {},
     "output_type": "execute_result"
    }
   ],
   "source": [
    "p1(TEST)"
   ]
  },
  {
   "cell_type": "code",
   "execution_count": 4,
   "metadata": {},
   "outputs": [
    {
     "data": {
      "text/plain": [
       "109833"
      ]
     },
     "execution_count": 4,
     "metadata": {},
     "output_type": "execute_result"
    }
   ],
   "source": [
    "p1(A)"
   ]
  },
  {
   "cell_type": "code",
   "execution_count": 5,
   "metadata": {},
   "outputs": [],
   "source": [
    "def rollP2(rocks):\n",
    "    for a in range(4):\n",
    "        #print([\"NORTH\", \"WEST\", \"SOUTH\", \"EAST\"][a])\n",
    "        res = []\n",
    "        for row in [\"\".join(row) for row in list(zip(*rocks[::-1]))]:\n",
    "            if \"O\" not in row:\n",
    "                res.append(row)\n",
    "                continue\n",
    "            if \"#\" not in row:\n",
    "                C = row.count(\"O\")\n",
    "                L = len(row) - C\n",
    "                res.append(\".\" * L + \"O\" * C)\n",
    "                continue\n",
    "\n",
    "            tmp = \"\"\n",
    "            rolling = 0\n",
    "            for c in row:\n",
    "                if c == \"#\":\n",
    "                    if rolling:\n",
    "                        tmp = tmp[:-rolling] + \"O\" * rolling\n",
    "                    tmp += \"#\"\n",
    "                    rolling = 0\n",
    "                else:\n",
    "                    tmp += \".\"\n",
    "                    rolling += 1 if c == \"O\" else 0\n",
    "            if rolling:\n",
    "                res.append(tmp[:-rolling] + \"O\" * rolling)\n",
    "            else:\n",
    "                res.append(tmp)  \n",
    "        rocks = res\n",
    "    return res\n",
    "\n",
    "def hashRockmap(M):\n",
    "    return str(hash(\"\".join(M)))\n",
    "\n",
    "def calcMod(offset, mod, N):\n",
    "    return (N - offset) % mod\n",
    "\n",
    "def calcLoad(M):\n",
    "    res = 0\n",
    "    for row in parse(M):\n",
    "        res += sum([i if v == \"O\" else 0 for i, v in enumerate(row, start=1)])\n",
    "    return res\n",
    "\n",
    "def p2(rocks):\n",
    "    hashes = set()\n",
    "    N = 1_000_000_000\n",
    "    masterHash = \"\"\n",
    "    offset = 0\n",
    "    cyclelength = 0\n",
    "    for i in range(1, N):\n",
    "        rocks = rollP2(rocks)\n",
    "        H = hashRockmap(rocks)\n",
    "        if masterHash and H == masterHash:\n",
    "            print(f\"Cycle repeats on `cycle` {i}, so cycle length is {i-offset}\")\n",
    "            cyclelength = i - offset\n",
    "            fewMore = calcMod(offset, cyclelength, N)\n",
    "            break\n",
    "        if H in hashes and masterHash == \"\":\n",
    "            print(f\"Cycle detected after {i} `cycles`.\")\n",
    "            offset = i\n",
    "            masterHash = H\n",
    "            # for row in rocks:\n",
    "            #     print(row)\n",
    "            # print()\n",
    "        hashes.add(H)\n",
    "\n",
    "    for i in range(fewMore):\n",
    "        rocks = rollP2(rocks)\n",
    "\n",
    "    # for row in rocks:\n",
    "    #     print(row)\n",
    "    # print()\n",
    "\n",
    "    print(f\"Total load on north support beam after {N} cycles: {calcLoad(rocks)} \")\n"
   ]
  },
  {
   "cell_type": "code",
   "execution_count": 6,
   "metadata": {},
   "outputs": [
    {
     "name": "stdout",
     "output_type": "stream",
     "text": [
      "Cycle detected after 10 `cycles`.\n",
      "Cycle repeats on `cycle` 17, so cycle length is 7\n",
      "Total load on north support beam after 1000000000 cycles: 64 \n"
     ]
    }
   ],
   "source": [
    "p2(TEST)"
   ]
  },
  {
   "cell_type": "code",
   "execution_count": 7,
   "metadata": {},
   "outputs": [
    {
     "name": "stdout",
     "output_type": "stream",
     "text": [
      "Cycle detected after 170 `cycles`.\n",
      "Cycle repeats on `cycle` 198, so cycle length is 28\n",
      "Total load on north support beam after 1000000000 cycles: 99875 \n"
     ]
    }
   ],
   "source": [
    "p2(A)"
   ]
  },
  {
   "cell_type": "code",
   "execution_count": null,
   "metadata": {},
   "outputs": [],
   "source": []
  }
 ],
 "metadata": {
  "kernelspec": {
   "display_name": "base",
   "language": "python",
   "name": "python3"
  },
  "language_info": {
   "codemirror_mode": {
    "name": "ipython",
    "version": 3
   },
   "file_extension": ".py",
   "mimetype": "text/x-python",
   "name": "python",
   "nbconvert_exporter": "python",
   "pygments_lexer": "ipython3",
   "version": "3.8.5"
  }
 },
 "nbformat": 4,
 "nbformat_minor": 2
}
