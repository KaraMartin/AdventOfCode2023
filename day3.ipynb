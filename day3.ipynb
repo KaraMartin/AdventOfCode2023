{
 "cells": [
  {
   "cell_type": "code",
   "execution_count": 68,
   "metadata": {},
   "outputs": [],
   "source": [
    "# Advent of Code 2023\n",
    "# Day 3 Problem 1\n",
    "\n",
    "with open(\"aoc_03_input.txt\") as f:\n",
    "    lines = f.read().split(\"\\n\")\n"
   ]
  },
  {
   "cell_type": "code",
   "execution_count": 69,
   "metadata": {},
   "outputs": [],
   "source": [
    "def pad(inp):\n",
    "    h = len(inp)\n",
    "    w = len(inp[0])\n",
    "    outp = [\".\" * (w + 2)] + [\".\" + row + \".\" for row in inp] + [\".\" * (w + 2)]\n",
    "    return outp\n",
    "\n",
    "def yieldCoords(input):\n",
    "    symcoords = []\n",
    "    for x,r in enumerate(input):\n",
    "        #print(\"r \", r, \"\\tx \", x)\n",
    "        for y,chr in enumerate(r):\n",
    "            if chr not in \"0123456789.\":\n",
    "                symcoords.append([x,y,chr])\n",
    "    return symcoords\n",
    "    \n",
    "def grabNum(y, row):\n",
    "    cand = row[y]\n",
    "    yl = y - 1\n",
    "    yr = y + 1\n",
    "    while yl >= 0 and row[yl].isdigit():\n",
    "        cand = row[yl] + cand\n",
    "        yl -= 1\n",
    "    while yr <= len(row) and row[yr].isdigit():\n",
    "        cand = cand + row[yr]\n",
    "        yr += 1\n",
    "    #print(cand)\n",
    "    return int(cand)\n",
    "    \n",
    "def checkNeighbors(a,b,world):\n",
    "    top = []\n",
    "    middle = []\n",
    "    bot = []\n",
    "\n",
    "    if world[a-1][b-1].isdigit():\n",
    "        top.append(grabNum(b-1,world[a-1]))\n",
    "    if world[a-1][b].isdigit():\n",
    "        top.append(grabNum(b,world[a-1]))\n",
    "    if world[a-1][b+1].isdigit():\n",
    "        top.append(grabNum(b+1,world[a-1]))\n",
    "    if len(top) >= 2 and world[a-1][b].isdigit(): \n",
    "        # CASES: n$n or  nnn or n$m\n",
    "        top = [z for z in set(top)]\n",
    "\n",
    "    if world[a][b-1].isdigit():\n",
    "        middle.append(grabNum(b-1,world[a]))\n",
    "    if world[a][b+1].isdigit():\n",
    "        middle.append(grabNum(b+1,world[a]))\n",
    "\n",
    "    if world[a+1][b-1].isdigit():\n",
    "        bot.append(grabNum(b-1,world[a+1]))\n",
    "    if world[a+1][b].isdigit():\n",
    "        bot.append(grabNum(b,world[a+1]))\n",
    "    if world[a+1][b+1].isdigit():\n",
    "        bot.append(grabNum(b+1,world[a+1]))\n",
    "    if world[a+1][b] != \".\":\n",
    "        bot = [z for z in set(bot)]\n",
    "    \n",
    "    return top,middle,bot\n",
    "\n",
    "def checkSymbols(symbols, world):\n",
    "    res = 0\n",
    "    for [a,b,c] in symbols:\n",
    "        T,M,B = checkNeighbors(a,b,world)\n",
    "        res += sum(T) + sum(M) + sum(B)\n",
    "\n",
    "    return res\n",
    "\n"
   ]
  },
  {
   "cell_type": "code",
   "execution_count": 70,
   "metadata": {},
   "outputs": [
    {
     "name": "stdout",
     "output_type": "stream",
     "text": [
      "[2, 4, '*']\n",
      "[4, 7, '#']\n",
      "[5, 4, '*']\n",
      "[6, 6, '+']\n",
      "[9, 4, '$']\n",
      "[9, 6, '*']\n",
      "4361\n"
     ]
    }
   ],
   "source": [
    "TEST = \"\"\"467..114..\n",
    "...*......\n",
    "..35..633.\n",
    "......#...\n",
    "617*......\n",
    ".....+.58.\n",
    "..592.....\n",
    "......755.\n",
    "...$.*....\n",
    ".664.598..\"\"\".split(\"\\n\")\n",
    "\n",
    "V = pad(TEST)\n",
    "\n",
    "for s in yieldCoords(V):\n",
    "    print(s)\n",
    "    \n",
    "print(checkSymbols(yieldCoords(V), V))\n"
   ]
  },
  {
   "cell_type": "code",
   "execution_count": 71,
   "metadata": {},
   "outputs": [
    {
     "name": "stdout",
     "output_type": "stream",
     "text": [
      "[3, 7, '*']\n",
      "4\n"
     ]
    }
   ],
   "source": [
    "# from reddit\n",
    "TESTB = [\n",
    "\"........\",\n",
    "\".24..4..\",\n",
    "\"......*.\"\n",
    "]\n",
    "\n",
    "W = pad(TESTB)\n",
    "\n",
    "for s in yieldCoords(W):\n",
    "    print(s)\n",
    "\n",
    "print(checkSymbols(yieldCoords(W), W))\n"
   ]
  },
  {
   "cell_type": "code",
   "execution_count": 72,
   "metadata": {},
   "outputs": [
    {
     "name": "stdout",
     "output_type": "stream",
     "text": [
      "[1, 10, '*']\n",
      "[2, 1, '+']\n",
      "[3, 8, '-']\n",
      "[5, 3, '*']\n",
      "[8, 7, '*']\n",
      "[11, 2, '*']\n",
      "[11, 12, '*']\n",
      "413\n"
     ]
    }
   ],
   "source": [
    "# from reddit\n",
    "TESTC = \"\"\"12.......*..\n",
    "+.........34\n",
    ".......-12..\n",
    "..78........\n",
    "..*....60...\n",
    "78..........\n",
    ".......23...\n",
    "....90*12...\n",
    "............\n",
    "2.2......12.\n",
    ".*.........*\n",
    "1.1.......56\"\"\".split(\"\\n\")\n",
    "\n",
    "R = pad(TESTC)\n",
    "\n",
    "for s in yieldCoords(R):\n",
    "    print(s)\n",
    "\n",
    "print(checkSymbols(yieldCoords(R),R))\n"
   ]
  },
  {
   "cell_type": "code",
   "execution_count": 73,
   "metadata": {},
   "outputs": [
    {
     "name": "stdout",
     "output_type": "stream",
     "text": [
      "537832\n"
     ]
    }
   ],
   "source": [
    "U = pad(lines)\n",
    "print(checkSymbols(yieldCoords(U),U))\n"
   ]
  },
  {
   "cell_type": "code",
   "execution_count": 74,
   "metadata": {},
   "outputs": [
    {
     "name": "stdout",
     "output_type": "stream",
     "text": [
      "{(2, 4): [], (5, 4): [], (9, 6): []}\n"
     ]
    }
   ],
   "source": [
    "# part 2 - gear ratios\n",
    "def yieldGears(world):\n",
    "    allSyms = yieldCoords(world)\n",
    "    gears = {}\n",
    "    for a,b,c in allSyms:\n",
    "        #print(a,b,c)\n",
    "        if c == \"*\":\n",
    "            gears[(a,b)] = []\n",
    "    return gears\n",
    "\n",
    "G = yieldGears(pad(TEST))\n",
    "print(G)\n"
   ]
  },
  {
   "cell_type": "code",
   "execution_count": 75,
   "metadata": {},
   "outputs": [],
   "source": [
    "def checkSymbolsP2(gears, world):\n",
    "    res = 0\n",
    "    for (a,b) in gears.keys():\n",
    "        T, M, B = checkNeighbors(a,b,world)\n",
    "        allCands = T + M + B\n",
    "        #print(allCands)\n",
    "        if len(allCands) == 2:\n",
    "            res += allCands[0] * allCands[1]\n",
    "    return res\n",
    "\n",
    "def p2(input):\n",
    "    world = pad(input)\n",
    "    gears = yieldGears(world)\n",
    "    res = checkSymbolsP2(gears, world)\n",
    "    return res\n"
   ]
  },
  {
   "cell_type": "code",
   "execution_count": 76,
   "metadata": {},
   "outputs": [
    {
     "name": "stdout",
     "output_type": "stream",
     "text": [
      "467835\n"
     ]
    }
   ],
   "source": [
    "print(p2(TEST))\n"
   ]
  },
  {
   "cell_type": "code",
   "execution_count": 79,
   "metadata": {},
   "outputs": [
    {
     "name": "stdout",
     "output_type": "stream",
     "text": [
      "6756\n"
     ]
    }
   ],
   "source": [
    "# p2 expected output: 6756\n",
    "print(p2(TESTC))\n"
   ]
  },
  {
   "cell_type": "code",
   "execution_count": 80,
   "metadata": {},
   "outputs": [
    {
     "name": "stdout",
     "output_type": "stream",
     "text": [
      "81939900\n"
     ]
    }
   ],
   "source": [
    "print(p2(lines))\n"
   ]
  },
  {
   "cell_type": "code",
   "execution_count": null,
   "metadata": {},
   "outputs": [],
   "source": []
  }
 ],
 "metadata": {
  "kernelspec": {
   "display_name": "Python 3",
   "language": "python",
   "name": "python3"
  },
  "language_info": {
   "codemirror_mode": {
    "name": "ipython",
    "version": 3
   },
   "file_extension": ".py",
   "mimetype": "text/x-python",
   "name": "python",
   "nbconvert_exporter": "python",
   "pygments_lexer": "ipython3",
   "version": "3.11.0"
  }
 },
 "nbformat": 4,
 "nbformat_minor": 2
}
