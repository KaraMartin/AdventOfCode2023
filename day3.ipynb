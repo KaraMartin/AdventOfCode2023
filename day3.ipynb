{
 "cells": [
  {
   "cell_type": "code",
   "execution_count": 43,
   "metadata": {},
   "outputs": [],
   "source": [
    "# Advent of Code 2023\n",
    "# Day 3 Problem 1\n",
    "\n",
    "with open(\"aoc_03_input.txt\") as f:\n",
    "    A = f.read().strip().split(\"\\n\")"
   ]
  },
  {
   "cell_type": "code",
   "execution_count": 44,
   "metadata": {},
   "outputs": [],
   "source": [
    "def pad(inp):\n",
    "    w = len(inp[0])\n",
    "    return [\".\" * (w + 2)] + [\".\" + row + \".\" for row in inp] + [\".\" * (w + 2)]\n",
    "\n",
    "def yieldCoords(input):\n",
    "    symcoords = []\n",
    "    for x,r in enumerate(input):\n",
    "        for y,chr in enumerate(r):\n",
    "            if chr not in \"0123456789.\":\n",
    "                symcoords.append([x,y,chr])\n",
    "    return symcoords\n",
    "    \n",
    "def grabNum(y, row):\n",
    "    cand = row[y]\n",
    "    yl = y - 1\n",
    "    yr = y + 1\n",
    "    while yl >= 0 and row[yl].isdigit():\n",
    "        cand = row[yl] + cand\n",
    "        yl -= 1\n",
    "    while yr <= len(row) and row[yr].isdigit():\n",
    "        cand = cand + row[yr]\n",
    "        yr += 1\n",
    "    return int(cand)\n",
    "    \n",
    "def checkNeighbors(a,b,world):\n",
    "    top, middle, bot = [], [], []\n",
    "\n",
    "    if world[a-1][b-1].isdigit():   top.append(grabNum(b-1,world[a-1]))\n",
    "    if world[a-1][b].isdigit():     top.append(grabNum(b,world[a-1]))\n",
    "    if world[a-1][b+1].isdigit():   top.append(grabNum(b+1,world[a-1]))\n",
    "    # CASES: n$n or  nnn or n$m\n",
    "    if len(top) >= 2 and world[a-1][b].isdigit(): \n",
    "        top = [z for z in set(top)]\n",
    "\n",
    "    if world[a][b-1].isdigit():     middle.append(grabNum(b-1,world[a]))\n",
    "    if world[a][b+1].isdigit():     middle.append(grabNum(b+1,world[a]))\n",
    "\n",
    "    if world[a+1][b-1].isdigit():   bot.append(grabNum(b-1,world[a+1]))\n",
    "    if world[a+1][b].isdigit():     bot.append(grabNum(b,world[a+1]))\n",
    "    if world[a+1][b+1].isdigit():   bot.append(grabNum(b+1,world[a+1]))\n",
    "    if world[a+1][b] != \".\":\n",
    "        bot = [z for z in set(bot)]\n",
    "    \n",
    "    return top, middle, bot\n",
    "\n",
    "def checkSymbols(symbols, world):\n",
    "    res = 0\n",
    "    for [a,b,c] in symbols:\n",
    "        T,M,B = checkNeighbors(a,b,world)\n",
    "        res += sum(T) + sum(M) + sum(B)\n",
    "    return res\n",
    "\n",
    "def p1(lines):\n",
    "    paddedLines = pad(lines)\n",
    "    return checkSymbols(yieldCoords(paddedLines), paddedLines)"
   ]
  },
  {
   "cell_type": "code",
   "execution_count": 45,
   "metadata": {},
   "outputs": [
    {
     "name": "stdout",
     "output_type": "stream",
     "text": [
      "4361\n"
     ]
    }
   ],
   "source": [
    "TEST = \"\"\"467..114..\n",
    "...*......\n",
    "..35..633.\n",
    "......#...\n",
    "617*......\n",
    ".....+.58.\n",
    "..592.....\n",
    "......755.\n",
    "...$.*....\n",
    ".664.598..\"\"\".strip().split(\"\\n\")\n",
    "\n",
    "# expected output: 4361\n",
    "print(p1(TEST))\n"
   ]
  },
  {
   "cell_type": "code",
   "execution_count": 46,
   "metadata": {},
   "outputs": [
    {
     "name": "stdout",
     "output_type": "stream",
     "text": [
      "4\n"
     ]
    }
   ],
   "source": [
    "# from reddit\n",
    "TESTB = \"\"\"........\n",
    ".24..4..\n",
    "......*.\"\"\".strip().split(\"\\n\")\n",
    "\n",
    "# expected output: 4\n",
    "print(p1(TESTB))\n"
   ]
  },
  {
   "cell_type": "code",
   "execution_count": 47,
   "metadata": {},
   "outputs": [
    {
     "name": "stdout",
     "output_type": "stream",
     "text": [
      "413\n"
     ]
    }
   ],
   "source": [
    "# from reddit\n",
    "TESTC = \"\"\"12.......*..\n",
    "+.........34\n",
    ".......-12..\n",
    "..78........\n",
    "..*....60...\n",
    "78..........\n",
    ".......23...\n",
    "....90*12...\n",
    "............\n",
    "2.2......12.\n",
    ".*.........*\n",
    "1.1.......56\"\"\".split(\"\\n\")\n",
    "\n",
    "# expected output: 413\n",
    "print(p1(TESTC))"
   ]
  },
  {
   "cell_type": "code",
   "execution_count": 48,
   "metadata": {},
   "outputs": [
    {
     "name": "stdout",
     "output_type": "stream",
     "text": [
      "537832\n"
     ]
    }
   ],
   "source": [
    "print(p1(A))"
   ]
  },
  {
   "cell_type": "code",
   "execution_count": 49,
   "metadata": {},
   "outputs": [
    {
     "name": "stdout",
     "output_type": "stream",
     "text": [
      "{(2, 4): [], (5, 4): [], (9, 6): []}\n"
     ]
    }
   ],
   "source": [
    "# part 2 - gear ratios\n",
    "def yieldGears(world):\n",
    "    allSyms = yieldCoords(world)\n",
    "    gears = {}\n",
    "    for a,b,c in allSyms:\n",
    "        if c == \"*\":\n",
    "            gears[(a,b)] = []\n",
    "    return gears\n",
    "\n",
    "G = yieldGears(pad(TEST))\n",
    "print(G)\n"
   ]
  },
  {
   "cell_type": "code",
   "execution_count": 50,
   "metadata": {},
   "outputs": [],
   "source": [
    "def checkSymbolsP2(gears, world):\n",
    "    res = 0\n",
    "    for (a,b) in gears.keys():\n",
    "        T, M, B = checkNeighbors(a,b,world)\n",
    "        allCands = T + M + B\n",
    "        if len(allCands) == 2:\n",
    "            res += allCands[0] * allCands[1]\n",
    "    return res\n",
    "\n",
    "def p2(input):\n",
    "    world = pad(input)\n",
    "    gears = yieldGears(world)\n",
    "    res = checkSymbolsP2(gears, world)\n",
    "    return res\n"
   ]
  },
  {
   "cell_type": "code",
   "execution_count": 51,
   "metadata": {},
   "outputs": [
    {
     "name": "stdout",
     "output_type": "stream",
     "text": [
      "467835\n"
     ]
    }
   ],
   "source": [
    "# expected output: 467835\n",
    "print(p2(TEST))"
   ]
  },
  {
   "cell_type": "code",
   "execution_count": 52,
   "metadata": {},
   "outputs": [
    {
     "name": "stdout",
     "output_type": "stream",
     "text": [
      "6756\n"
     ]
    }
   ],
   "source": [
    "# p2 expected output: 6756\n",
    "print(p2(TESTC))"
   ]
  },
  {
   "cell_type": "code",
   "execution_count": 53,
   "metadata": {},
   "outputs": [
    {
     "name": "stdout",
     "output_type": "stream",
     "text": [
      "81939900\n"
     ]
    }
   ],
   "source": [
    "print(p2(A))"
   ]
  }
 ],
 "metadata": {
  "kernelspec": {
   "display_name": "Python 3",
   "language": "python",
   "name": "python3"
  },
  "language_info": {
   "codemirror_mode": {
    "name": "ipython",
    "version": 3
   },
   "file_extension": ".py",
   "mimetype": "text/x-python",
   "name": "python",
   "nbconvert_exporter": "python",
   "pygments_lexer": "ipython3",
   "version": "3.8.5"
  }
 },
 "nbformat": 4,
 "nbformat_minor": 2
}
