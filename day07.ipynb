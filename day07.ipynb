{
 "cells": [
  {
   "cell_type": "code",
   "execution_count": 144,
   "metadata": {},
   "outputs": [
    {
     "name": "stdout",
     "output_type": "stream",
     "text": [
      "0 32T3K 765\n",
      "1 T55J5 684\n",
      "2 KK677 28\n",
      "3 KTJJT 220\n",
      "4 QQQJA 483\n"
     ]
    }
   ],
   "source": [
    "# Advent of Code 2023\n",
    "# Day 7 Problem 1\n",
    "import re\n",
    "from collections import Counter\n",
    "import functools\n",
    "\n",
    "with open(\"aoc_07_input.txt\") as f:\n",
    "    A = f.read().strip().split(\"\\n\")\n",
    "\n",
    "# c+p test case here\n",
    "TEST = \"\"\"32T3K 765\n",
    "T55J5 684\n",
    "KK677 28\n",
    "KTJJT 220\n",
    "QQQJA 483\"\"\".strip().split(\"\\n\")\n",
    "\n",
    "for i, line in enumerate(TEST):\n",
    "    print(i, line)\n"
   ]
  },
  {
   "cell_type": "code",
   "execution_count": 145,
   "metadata": {},
   "outputs": [],
   "source": [
    "def parseInput(lines):\n",
    "    split_lines = [line.split(\" \") for line in lines]\n",
    "    return [[a,int(b),Counter(a)] for [a,b] in split_lines]\n",
    "\n",
    "def camel_cmp(a,b):\n",
    "    order=\"23456789TJQKA\"\n",
    "    A = a[0]\n",
    "    B = b[0]\n",
    "    for i in range(5):\n",
    "        if A[i] != B[i]:\n",
    "            aa = order.index(A[i])\n",
    "            bb = order.index(B[i])\n",
    "            if aa < bb:\n",
    "                return -1\n",
    "            else:\n",
    "                return 1\n",
    "    return 0\n",
    "    \n",
    "def camel_sort(arr):\n",
    "    return sorted(arr, key=functools.cmp_to_key(camel_cmp))\n",
    "\n",
    "def total_winnings(ordered_hands):\n",
    "    res = 0\n",
    "    for i, hand in enumerate(ordered_hands, 1):\n",
    "        res += i * hand[1]\n",
    "    return res\n",
    "\n",
    "def p1(inp):\n",
    "    parsed = parseInput(inp)\n",
    "    FiveOAK = []\n",
    "    FourOAK = []\n",
    "    FullHouse = []\n",
    "    ThreeOAK = []\n",
    "    TwoPair = []\n",
    "    OnePair = []\n",
    "    HighCard = []\n",
    "\n",
    "    # sort by strength\n",
    "    for hand in parsed:\n",
    "        vals = hand[2].values()\n",
    "        if 5 in vals:           FiveOAK.append(hand)\n",
    "        elif 4 in vals:         FourOAK.append(hand)\n",
    "        elif 3 in vals:\n",
    "            if 2 in vals:       FullHouse.append(hand)\n",
    "            else:               ThreeOAK.append(hand)\n",
    "        elif 2 in vals:\n",
    "            if len(vals) == 3:  TwoPair.append(hand)\n",
    "            else:               OnePair.append(hand)\n",
    "        else:                   HighCard.append(hand)\n",
    "    \n",
    "    # sort by card order and put in one list\n",
    "    final_order = camel_sort(HighCard) + camel_sort(OnePair) + camel_sort(TwoPair) + camel_sort(ThreeOAK) + camel_sort(FullHouse) + camel_sort(FourOAK) + camel_sort(FiveOAK)\n",
    "    return total_winnings(final_order)\n"
   ]
  },
  {
   "cell_type": "code",
   "execution_count": 146,
   "metadata": {},
   "outputs": [
    {
     "data": {
      "text/plain": [
       "6440"
      ]
     },
     "execution_count": 146,
     "metadata": {},
     "output_type": "execute_result"
    }
   ],
   "source": [
    "# expected output: 6440\n",
    "p1(TEST)\n"
   ]
  },
  {
   "cell_type": "code",
   "execution_count": 147,
   "metadata": {},
   "outputs": [
    {
     "data": {
      "text/plain": [
       "247961593"
      ]
     },
     "execution_count": 147,
     "metadata": {},
     "output_type": "execute_result"
    }
   ],
   "source": [
    "p1(A)\n"
   ]
  },
  {
   "cell_type": "code",
   "execution_count": 148,
   "metadata": {},
   "outputs": [],
   "source": [
    "# Part 2\n",
    "def camel_cmp_p2(a,b):\n",
    "    order=\"J23456789TQKA\"\n",
    "    A = a[0]\n",
    "    B = b[0]\n",
    "    for i in range(5):\n",
    "        if A[i] != B[i]:\n",
    "            aa = order.index(A[i])\n",
    "            bb = order.index(B[i])\n",
    "            if aa < bb:\n",
    "                return -1\n",
    "            else:\n",
    "                return 1\n",
    "    return 0\n",
    "\n",
    "def camel_sort(arr):\n",
    "    return sorted(arr, key=functools.cmp_to_key(camel_cmp_p2))\n",
    "\n",
    "def p2(inp):\n",
    "    parsed = parseInput(inp)\n",
    "    FiveOAK, FourOAK, FullHouse, ThreeOAK, TwoPair, OnePair, HighCard = [], [], [], [], [], [], []\n",
    "\n",
    "    # sort by strength\n",
    "    for hand in parsed:\n",
    "        vals = hand[2].values()\n",
    "        jCount = hand[2][\"J\"]\n",
    "        tempCounterCopy = hand[2].copy()\n",
    "        tempCounterCopy[\"J\"] = 0\n",
    "        maxVal = max(tempCounterCopy.values())\n",
    "        theoBest = maxVal + jCount\n",
    "\n",
    "        # Jokers\n",
    "        if jCount >= 4 or 5 in vals:\n",
    "            FiveOAK.append(hand)\n",
    "        elif jCount == 3 or 4 in vals:\n",
    "            if maxVal == 2 or jCount == 1:\n",
    "                FiveOAK.append(hand)\n",
    "            else:\n",
    "                FourOAK.append(hand)\n",
    "        elif jCount == 2:\n",
    "            if maxVal == 3:\n",
    "                FiveOAK.append(hand)\n",
    "            elif maxVal == 2:\n",
    "                FourOAK.append(hand)\n",
    "            else:\n",
    "                ThreeOAK.append(hand)\n",
    "        elif jCount == 1:\n",
    "            if maxVal == 4:\n",
    "                FiveOAK.append(hand)\n",
    "            elif maxVal == 3:\n",
    "                FourOAK.append(hand)\n",
    "            elif maxVal == 2:\n",
    "                if Counter(tempCounterCopy.values())[2] == 2:\n",
    "                    FullHouse.append(hand)\n",
    "                else:\n",
    "                    ThreeOAK.append(hand)\n",
    "            else:\n",
    "                OnePair.append(hand)\n",
    "        # No Jokers, basically same as part 1  from 3oaK down\n",
    "        else:\n",
    "            if 3 in vals:\n",
    "                if 2 in vals:\n",
    "                    FullHouse.append(hand)\n",
    "                else:\n",
    "                    ThreeOAK.append(hand)\n",
    "            elif 2 in vals:\n",
    "                if len(vals) == 3:\n",
    "                    TwoPair.append(hand)\n",
    "                else:\n",
    "                    OnePair.append(hand)\n",
    "            else:\n",
    "                HighCard.append(hand)\n",
    "    \n",
    "    # sort by card order and put in one list\n",
    "    final_order = camel_sort(HighCard) + camel_sort(OnePair) + camel_sort(TwoPair) + camel_sort(ThreeOAK) + camel_sort(FullHouse) + camel_sort(FourOAK) + camel_sort(FiveOAK)\n",
    "    return total_winnings(final_order)\n"
   ]
  },
  {
   "cell_type": "code",
   "execution_count": 149,
   "metadata": {},
   "outputs": [
    {
     "data": {
      "text/plain": [
       "5905"
      ]
     },
     "execution_count": 149,
     "metadata": {},
     "output_type": "execute_result"
    }
   ],
   "source": [
    "p2(TEST)\n"
   ]
  },
  {
   "cell_type": "code",
   "execution_count": 150,
   "metadata": {},
   "outputs": [
    {
     "data": {
      "text/plain": [
       "6576"
      ]
     },
     "execution_count": 150,
     "metadata": {},
     "output_type": "execute_result"
    }
   ],
   "source": [
    "# test case from reddit for edge cases\n",
    "\n",
    "TESTB = \"\"\"2345A 1\n",
    "Q2KJJ 13\n",
    "Q2Q2Q 19\n",
    "T3T3J 17\n",
    "T3Q33 11\n",
    "2345J 3\n",
    "J345A 2\n",
    "32T3K 5\n",
    "T55J5 29\n",
    "KK677 7\n",
    "KTJJT 34\n",
    "QQQJA 31\n",
    "JJJJJ 37\n",
    "JAAAA 43\n",
    "AAAAJ 59\n",
    "AAAAA 61\n",
    "2AAAA 23\n",
    "2JJJJ 53\n",
    "JJJJ2 41\"\"\".strip().split(\"\\n\")\n",
    "\n",
    "# p1 expected output: 6576\n",
    "p1(TESTB)\n"
   ]
  },
  {
   "cell_type": "code",
   "execution_count": 151,
   "metadata": {},
   "outputs": [
    {
     "data": {
      "text/plain": [
       "6839"
      ]
     },
     "execution_count": 151,
     "metadata": {},
     "output_type": "execute_result"
    }
   ],
   "source": [
    "# p2 expected output: 6839\n",
    "p2(TESTB)\n"
   ]
  },
  {
   "cell_type": "code",
   "execution_count": 152,
   "metadata": {},
   "outputs": [
    {
     "data": {
      "text/plain": [
       "248750699"
      ]
     },
     "execution_count": 152,
     "metadata": {},
     "output_type": "execute_result"
    }
   ],
   "source": [
    "p2(A)\n"
   ]
  }
 ],
 "metadata": {
  "kernelspec": {
   "display_name": "Python 3",
   "language": "python",
   "name": "python3"
  },
  "language_info": {
   "codemirror_mode": {
    "name": "ipython",
    "version": 3
   },
   "file_extension": ".py",
   "mimetype": "text/x-python",
   "name": "python",
   "nbconvert_exporter": "python",
   "pygments_lexer": "ipython3",
   "version": "3.11.0"
  }
 },
 "nbformat": 4,
 "nbformat_minor": 2
}
