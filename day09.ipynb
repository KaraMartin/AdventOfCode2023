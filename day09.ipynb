{
 "cells": [
  {
   "cell_type": "code",
   "execution_count": 2,
   "metadata": {},
   "outputs": [
    {
     "name": "stdout",
     "output_type": "stream",
     "text": [
      "0: 0 3 6 9 12 15\n",
      "1: 1 3 6 10 15 21\n",
      "2: 10 13 16 21 30 45\n"
     ]
    }
   ],
   "source": [
    "# Advent of Code 2023\n",
    "# Day 9 Problem 1\n",
    "import re\n",
    "from collections import Counter\n",
    "import functools\n",
    "\n",
    "with open(\"aoc_09_input.txt\") as f:\n",
    "    A = f.read().strip().split(\"\\n\")\n",
    "\n",
    "# c+p test case here\n",
    "TEST = \"\"\"0 3 6 9 12 15\n",
    "1 3 6 10 15 21\n",
    "10 13 16 21 30 45\"\"\".strip().split(\"\\n\")\n",
    "\n",
    "for i, line in enumerate(TEST):\n",
    "    print(f\"{i}: {line}\")\n"
   ]
  },
  {
   "cell_type": "code",
   "execution_count": 46,
   "metadata": {},
   "outputs": [],
   "source": [
    "def parseInput(lines):\n",
    "    return [[int(a) for a in line.split(\" \")] for line in lines]\n",
    "\n",
    "def findNext(history):\n",
    "    last_vals = []\n",
    "    descends = [history]\n",
    "\n",
    "    while any([d != 0 for d in descends[-1]]):\n",
    "        descends.append([descends[-1][i+1] - val for i,val in enumerate(descends[-1][:-1])])\n",
    "    descends[-1].append(0)\n",
    "\n",
    "    for i,d in enumerate(descends[:-1][::-1], start=1):\n",
    "        L = len(d) - 1\n",
    "        d.append(descends[-i][L] + d[-1])\n",
    "\n",
    "    return descends[0][-1]\n",
    "\n",
    "\n",
    "def p1(inp):\n",
    "    histories = parseInput(inp)\n",
    "    res = 0\n",
    "    for h in histories:\n",
    "        res += findNext(h)\n",
    "        #print(res)\n",
    "    return res\n"
   ]
  },
  {
   "cell_type": "code",
   "execution_count": 47,
   "metadata": {},
   "outputs": [
    {
     "data": {
      "text/plain": [
       "114"
      ]
     },
     "execution_count": 47,
     "metadata": {},
     "output_type": "execute_result"
    }
   ],
   "source": [
    "# expected output: 114\n",
    "p1(TEST)\n"
   ]
  },
  {
   "cell_type": "code",
   "execution_count": 48,
   "metadata": {},
   "outputs": [
    {
     "data": {
      "text/plain": [
       "1647269739"
      ]
     },
     "execution_count": 48,
     "metadata": {},
     "output_type": "execute_result"
    }
   ],
   "source": [
    "p1(A)\n"
   ]
  },
  {
   "cell_type": "code",
   "execution_count": 53,
   "metadata": {},
   "outputs": [],
   "source": [
    "# Part 2\n",
    "\n",
    "def findNextp2(history):\n",
    "    last_vals = []\n",
    "    descends = [history]\n",
    "\n",
    "    while any([d != 0 for d in descends[-1]]):\n",
    "        descends.append([descends[-1][i+1] - val for i,val in enumerate(descends[-1][:-1])])\n",
    "    \n",
    "    descends[-1].append(0)\n",
    "\n",
    "    for i,d in enumerate(descends[:-1][::-1], start=1):\n",
    "        d.insert(0, d[0] - descends[-i][0])\n",
    "\n",
    "    return descends[0][0]\n",
    "\n",
    "\n",
    "def p2(inp):\n",
    "    histories = parseInput(inp)\n",
    "    res = 0\n",
    "    for h in histories:\n",
    "        res += findNextp2(h)\n",
    "        #print(res)\n",
    "    return res\n"
   ]
  },
  {
   "cell_type": "code",
   "execution_count": 54,
   "metadata": {},
   "outputs": [
    {
     "data": {
      "text/plain": [
       "2"
      ]
     },
     "execution_count": 54,
     "metadata": {},
     "output_type": "execute_result"
    }
   ],
   "source": [
    "p2(TEST)\n"
   ]
  },
  {
   "cell_type": "code",
   "execution_count": 55,
   "metadata": {},
   "outputs": [
    {
     "data": {
      "text/plain": [
       "864"
      ]
     },
     "execution_count": 55,
     "metadata": {},
     "output_type": "execute_result"
    }
   ],
   "source": [
    "p2(A)"
   ]
  }
 ],
 "metadata": {
  "kernelspec": {
   "display_name": "Python 3",
   "language": "python",
   "name": "python3"
  },
  "language_info": {
   "codemirror_mode": {
    "name": "ipython",
    "version": 3
   },
   "file_extension": ".py",
   "mimetype": "text/x-python",
   "name": "python",
   "nbconvert_exporter": "python",
   "pygments_lexer": "ipython3",
   "version": "3.8.5"
  }
 },
 "nbformat": 4,
 "nbformat_minor": 2
}
