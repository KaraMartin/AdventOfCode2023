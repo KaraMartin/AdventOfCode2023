{
 "cells": [
  {
   "cell_type": "code",
   "execution_count": 1,
   "metadata": {},
   "outputs": [
    {
     "name": "stdout",
     "output_type": "stream",
     "text": [
      "0 RL\n",
      "1 \n",
      "2 AAA = (BBB, CCC)\n",
      "3 BBB = (DDD, EEE)\n",
      "4 CCC = (ZZZ, GGG)\n",
      "5 DDD = (DDD, DDD)\n",
      "6 EEE = (EEE, EEE)\n",
      "7 GGG = (GGG, GGG)\n",
      "8 ZZZ = (ZZZ, ZZZ)\n"
     ]
    }
   ],
   "source": [
    "# Advent of Code 2023\n",
    "# Day 8 Problem 1\n",
    "import re\n",
    "from collections import Counter\n",
    "import functools\n",
    "\n",
    "with open(\"aoc_08_input.txt\") as f:\n",
    "    A = f.read().strip().split(\"\\n\")\n",
    "\n",
    "# c+p test case here\n",
    "TEST = \"\"\"RL\n",
    "\n",
    "AAA = (BBB, CCC)\n",
    "BBB = (DDD, EEE)\n",
    "CCC = (ZZZ, GGG)\n",
    "DDD = (DDD, DDD)\n",
    "EEE = (EEE, EEE)\n",
    "GGG = (GGG, GGG)\n",
    "ZZZ = (ZZZ, ZZZ)\"\"\".strip().split(\"\\n\")\n",
    "\n",
    "for i, line in enumerate(TEST):\n",
    "    print(i, line)\n"
   ]
  },
  {
   "cell_type": "code",
   "execution_count": 2,
   "metadata": {},
   "outputs": [],
   "source": [
    "def parseInput(lines):\n",
    "    inst = lines[0]\n",
    "    res = {}\n",
    "    for line in lines[2:]:\n",
    "        #do something\n",
    "        node = line.split(\"=\")[0][:-1]\n",
    "        a, b = line.split(\",\")\n",
    "        left = a[-3:]\n",
    "        right = b[1:4]\n",
    "        res[node] = [left, right]\n",
    "    return inst, res\n",
    "\n",
    "def p1(inp):\n",
    "    instructions, D = parseInput(inp)\n",
    "    #print(D)\n",
    "    res = 0\n",
    "    curr = 0\n",
    "    S = \"AAA\"\n",
    "    while S != \"ZZZ\":\n",
    "        curr %= len(instructions)\n",
    "        if instructions[curr] == \"L\":\n",
    "            S = D[S][0]\n",
    "        else:\n",
    "            S = D[S][1]\n",
    "        curr += 1\n",
    "        res += 1\n",
    "\n",
    "    # business logic here\n",
    "\n",
    "    return res\n"
   ]
  },
  {
   "cell_type": "code",
   "execution_count": 3,
   "metadata": {},
   "outputs": [
    {
     "data": {
      "text/plain": [
       "2"
      ]
     },
     "execution_count": 3,
     "metadata": {},
     "output_type": "execute_result"
    }
   ],
   "source": [
    "# expected output: \n",
    "p1(TEST)\n"
   ]
  },
  {
   "cell_type": "code",
   "execution_count": 4,
   "metadata": {},
   "outputs": [
    {
     "data": {
      "text/plain": [
       "12643"
      ]
     },
     "execution_count": 4,
     "metadata": {},
     "output_type": "execute_result"
    }
   ],
   "source": [
    "p1(A)\n"
   ]
  },
  {
   "cell_type": "code",
   "execution_count": 5,
   "metadata": {},
   "outputs": [],
   "source": [
    "# Part 2\n",
    "\n",
    "# https://stackoverflow.com/a/22808285\n",
    "def prime_factors(n):\n",
    "    i = 2\n",
    "    factors = []\n",
    "    while i * i <= n:\n",
    "        if n % i:\n",
    "            i += 1\n",
    "        else:\n",
    "            n //= i\n",
    "            factors.append(i)\n",
    "    if n > 1:\n",
    "        factors.append(n)\n",
    "    return factors\n",
    "\n",
    "def p2(inp):\n",
    "    instructions, D = parseInput(inp)\n",
    "    L = len(instructions)\n",
    "    res = 0\n",
    "    mods = []\n",
    "\n",
    "    # oh... this is chinese remainder theorem!\n",
    "    S = [key for key in D.keys() if key[-1] == \"A\"]\n",
    "    while any( [k[-1] != \"Z\" for k in S] ):\n",
    "        if instructions[(res % L)] == \"L\":\n",
    "            for i, v in enumerate(S):\n",
    "                S[i] = D[v][0]\n",
    "        else:\n",
    "            for i, v in enumerate(S):\n",
    "                S[i] = D[v][1]\n",
    "        res += 1\n",
    "        if any([k[-1] == \"Z\" for k in S]):\n",
    "            # Now we know this will end on a Z every \n",
    "            # res steps. So we can take the final\n",
    "            # answer to be the coprime product of these values.\n",
    "            for i,v in enumerate(S):\n",
    "                if v[-1] == \"Z\":\n",
    "                    S.pop(i)\n",
    "                    mods.append(res)\n",
    "    unique_factors = set()\n",
    "    for mod in mods:\n",
    "        for factor in prime_factors(mod):\n",
    "            unique_factors.add(factor)\n",
    "\n",
    "    final_res = functools.reduce(lambda a, b: a * b, unique_factors)\n",
    "    return final_res\n"
   ]
  },
  {
   "cell_type": "code",
   "execution_count": 6,
   "metadata": {},
   "outputs": [
    {
     "data": {
      "text/plain": [
       "6"
      ]
     },
     "execution_count": 6,
     "metadata": {},
     "output_type": "execute_result"
    }
   ],
   "source": [
    "# expected output: 6\n",
    "TESTB = \"\"\"LR\n",
    "\n",
    "11A = (11B, XXX)\n",
    "11B = (XXX, 11Z)\n",
    "11Z = (11B, XXX)\n",
    "22A = (22B, XXX)\n",
    "22B = (22C, 22C)\n",
    "22C = (22Z, 22Z)\n",
    "22Z = (22B, 22B)\n",
    "XXX = (XXX, XXX)\"\"\".strip().split(\"\\n\")\n",
    "p2(TESTB)\n"
   ]
  },
  {
   "cell_type": "code",
   "execution_count": 7,
   "metadata": {},
   "outputs": [
    {
     "data": {
      "text/plain": [
       "13133452426987"
      ]
     },
     "execution_count": 7,
     "metadata": {},
     "output_type": "execute_result"
    }
   ],
   "source": [
    "p2(A)\n"
   ]
  }
 ],
 "metadata": {
  "kernelspec": {
   "display_name": "Python 3",
   "language": "python",
   "name": "python3"
  },
  "language_info": {
   "codemirror_mode": {
    "name": "ipython",
    "version": 3
   },
   "file_extension": ".py",
   "mimetype": "text/x-python",
   "name": "python",
   "nbconvert_exporter": "python",
   "pygments_lexer": "ipython3",
   "version": "3.11.0"
  }
 },
 "nbformat": 4,
 "nbformat_minor": 2
}
