{
 "cells": [
  {
   "cell_type": "code",
   "execution_count": 49,
   "metadata": {},
   "outputs": [
    {
     "name": "stdout",
     "output_type": "stream",
     "text": [
      "2256\n"
     ]
    }
   ],
   "source": [
    "# Advent of Code 2023\n",
    "# Day 2 Problem 1\n",
    "\n",
    "with open(\"aoc_02_input.txt\") as f:\n",
    "    lines = f.readlines()\n",
    "\n",
    "RED = 12\n",
    "GREEN = 13\n",
    "BLUE = 14\n",
    "\n",
    "s = 0\n",
    "\n",
    "TEST = [\"Game 1: 3 blue, 4 red; 1 red, 2 green, 6 blue; 2 green\",\n",
    "\"Game 2: 1 blue, 2 green; 3 green, 4 blue, 1 red; 1 green, 1 blue\",\n",
    "\"Game 3: 8 green, 6 blue, 20 red; 5 blue, 4 red, 13 green; 5 green, 1 red\",\n",
    "\"Game 4: 1 green, 3 red, 6 blue; 3 green, 6 red; 3 green, 15 blue, 14 red\", \n",
    "\"Game 5: 6 red, 1 blue, 3 green; 2 blue, 1 red, 2 green\"]\n",
    "\n",
    "\n",
    "for line in lines:\n",
    "    id = int(line.split(\": \")[0].split(\" \")[1])\n",
    "    games = line.split(\": \")[1].split(\";\")\n",
    "\n",
    "    R,B,G = 0,0,0\n",
    "    POSSIBLE = True\n",
    "\n",
    "    for game in games:\n",
    "        colors = game.split(\", \")\n",
    "\n",
    "        for color in colors:\n",
    "            if \"red\" in color:\n",
    "                R = int(color.split(\" \")[color[0] == \" \"])\n",
    "            elif \"blue\" in color:\n",
    "                B = int(color.split(\" \")[color[0] == \" \"])\n",
    "            else:\n",
    "                G = int(color.split(\" \")[color[0] == \" \"])\n",
    "\n",
    "        if R > RED or B > BLUE or G > GREEN:\n",
    "            POSSIBLE = False\n",
    "            \n",
    "    if POSSIBLE:\n",
    "        s += id\n",
    "\n",
    "print(s)\n"
   ]
  },
  {
   "cell_type": "code",
   "execution_count": 43,
   "metadata": {},
   "outputs": [
    {
     "name": "stdout",
     "output_type": "stream",
     "text": [
      "74229\n"
     ]
    }
   ],
   "source": [
    "# Advent of Code 2023\n",
    "# Day 2 Problem 1\n",
    "\n",
    "with open(\"aoc_02_input.txt\") as f:\n",
    "    lines = f.readlines()\n",
    "\n",
    "s = 0\n",
    "\n",
    "for line in lines:\n",
    "    id = line.split(\": \")[0].split(\" \")[1]\n",
    "    games = line.split(\": \")[1].split(\";\")\n",
    "    R,B,G = 0,0,0\n",
    "    for game in games:\n",
    "        colors = game.split(\", \")\n",
    "        for color in colors:\n",
    "            if \"red\" in color:\n",
    "                if R == 0:\n",
    "                    R = int(color.split(\" \")[color[0] == \" \"])\n",
    "                else:\n",
    "                    R = max(R, int(color.split(\" \")[color[0] == \" \"]))\n",
    "            elif \"blue\" in color:\n",
    "                if B == 0:\n",
    "                    B = int(color.split(\" \")[color[0] == \" \"])\n",
    "                else:\n",
    "                    B = max(B, int(color.split(\" \")[color[0] == \" \"]))\n",
    "            else:\n",
    "                if G == 0:\n",
    "                    G = int(color.split(\" \")[color[0] == \" \"])\n",
    "                else:\n",
    "                    G = max(G, int(color.split(\" \")[color[0] == \" \"]))\n",
    "    p =  R * G * B\n",
    "    #print(p)\n",
    "    s += p\n",
    "\n",
    "print(s)\n"
   ]
  },
  {
   "cell_type": "code",
   "execution_count": null,
   "metadata": {},
   "outputs": [],
   "source": []
  }
 ],
 "metadata": {
  "kernelspec": {
   "display_name": "Python 3",
   "language": "python",
   "name": "python3"
  },
  "language_info": {
   "codemirror_mode": {
    "name": "ipython",
    "version": 3
   },
   "file_extension": ".py",
   "mimetype": "text/x-python",
   "name": "python",
   "nbconvert_exporter": "python",
   "pygments_lexer": "ipython3",
   "version": "3.11.0"
  }
 },
 "nbformat": 4,
 "nbformat_minor": 2
}
