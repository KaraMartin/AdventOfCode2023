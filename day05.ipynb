{
 "cells": [
  {
   "cell_type": "code",
   "execution_count": 23,
   "metadata": {},
   "outputs": [
    {
     "name": "stdout",
     "output_type": "stream",
     "text": [
      "0 seeds: 79 14 55 13\n",
      "1 seed-to-soil map:\n",
      "50 98 2\n",
      "52 50 48\n",
      "2 soil-to-fertilizer map:\n",
      "0 15 37\n",
      "37 52 2\n",
      "39 0 15\n",
      "3 fertilizer-to-water map:\n",
      "49 53 8\n",
      "0 11 42\n",
      "42 0 7\n",
      "57 7 4\n",
      "4 water-to-light map:\n",
      "88 18 7\n",
      "18 25 70\n",
      "5 light-to-temperature map:\n",
      "45 77 23\n",
      "81 45 19\n",
      "68 64 13\n",
      "6 temperature-to-humidity map:\n",
      "0 69 1\n",
      "1 0 69\n",
      "7 humidity-to-location map:\n",
      "60 56 37\n",
      "56 93 4\n"
     ]
    }
   ],
   "source": [
    "# Advent of Code 2023\n",
    "# Day 5 Problem 1\n",
    "\n",
    "with open(\"aoc_05_input.txt\") as f:\n",
    "    A = f.read().strip().split(\"\\n\\n\")\n",
    "\n",
    "# c+p test case here\n",
    "TEST = \"\"\"seeds: 79 14 55 13\n",
    "\n",
    "seed-to-soil map:\n",
    "50 98 2\n",
    "52 50 48\n",
    "\n",
    "soil-to-fertilizer map:\n",
    "0 15 37\n",
    "37 52 2\n",
    "39 0 15\n",
    "\n",
    "fertilizer-to-water map:\n",
    "49 53 8\n",
    "0 11 42\n",
    "42 0 7\n",
    "57 7 4\n",
    "\n",
    "water-to-light map:\n",
    "88 18 7\n",
    "18 25 70\n",
    "\n",
    "light-to-temperature map:\n",
    "45 77 23\n",
    "81 45 19\n",
    "68 64 13\n",
    "\n",
    "temperature-to-humidity map:\n",
    "0 69 1\n",
    "1 0 69\n",
    "\n",
    "humidity-to-location map:\n",
    "60 56 37\n",
    "56 93 4\"\"\".strip().split(\"\\n\\n\")\n",
    "\n",
    "for i, line in enumerate(TEST):\n",
    "    print(i, line)\n"
   ]
  },
  {
   "cell_type": "code",
   "execution_count": 24,
   "metadata": {},
   "outputs": [],
   "source": [
    "# problem helper functions here\n",
    "\n",
    "def giveSeeds(inp):\n",
    "    seeds = [int(x) for x in str(inp[0]).split(\": \")[1].split(\" \")]\n",
    "    return seeds\n",
    "\n",
    "def yieldMapping(map, n):\n",
    "    #print(map)\n",
    "    M = map.split(\"\\n\")\n",
    "    for p in M[1:]:\n",
    "        d, s, r = p.split(\" \")\n",
    "        a,b,c = int(d), int(s), int(r) \n",
    "        if n in range(b, b + c):\n",
    "            delta = b + c - n \n",
    "            return n - b + a\n",
    "    return n\n",
    "\n",
    "def p1(lines):\n",
    "    seeds = giveSeeds(lines)\n",
    "    cand = []\n",
    "    for seed in seeds:\n",
    "        for map in lines[1:]:\n",
    "            #print(f\"{seed}->\", end=\"\")\n",
    "            seed = yieldMapping(map, seed)\n",
    "        #print(f\"{seed}\")\n",
    "        #print()\n",
    "        cand.append(seed)\n",
    "    return min(cand)\n"
   ]
  },
  {
   "cell_type": "code",
   "execution_count": 25,
   "metadata": {},
   "outputs": [
    {
     "name": "stdout",
     "output_type": "stream",
     "text": [
      "  Test:\t35\n",
      "Part 1:\t551761867\n"
     ]
    }
   ],
   "source": [
    "# expected output: 13\n",
    "print(f\"  Test:\\t{p1(TEST)}\")\n",
    "p1_ans = p1(A)\n",
    "print(f\"Part 1:\\t{p1_ans}\")\n"
   ]
  },
  {
   "cell_type": "code",
   "execution_count": 26,
   "metadata": {},
   "outputs": [],
   "source": [
    "# Part 2\n",
    "def seedRanges(inp):\n",
    "    S = [int(x) for x in str(inp[0]).split(\": \")[1].split(\" \")]\n",
    "    res = []\n",
    "    for i in range(len(S)//2):\n",
    "        # Use clopen sets of the form [a,b)\n",
    "        res.append([S[2*i], S[(2*i)+1]])\n",
    "    return res\n"
   ]
  },
  {
   "cell_type": "code",
   "execution_count": 27,
   "metadata": {},
   "outputs": [],
   "source": [
    "def getAlmanac(lines):\n",
    "    # Please give me an array of sorted [D S R] for each map type\n",
    "    maps_as_given = [sorted([[int(x) for x in p.split(\" \")] for p in line.strip().split(\"\\n\")[1:]]) for line in lines]\n",
    "    for map in maps_as_given:\n",
    "        if map[0][0]:   \n",
    "            map.insert(0, [0, 0, map[0][0] - 1])\n",
    "    maps = [[[a, a+c, b, b+c] for a, b, c in map] for map in maps_as_given]\n",
    "    return maps[::-1]\n",
    "\n",
    "def pClopen(sR):\n",
    "    print(\"Seed ranges: (half-open sets of the form [a,b)\")\n",
    "    for r in sR:\n",
    "        print(r, end=\" -> \")\n",
    "        print(f\"[{r[0]}, {r[0] + r[1]})\")\n",
    "\n",
    "def yieldClopens(seed_ranges):\n",
    "    return [[s[0], s[0]+s[1]] for s in seed_ranges]\n",
    "\n",
    "def p2_debug(lines):\n",
    "    sR = sorted(seedRanges(lines))\n",
    "    pClopen(sR)\n",
    "    seeds = yieldClopens(sR)\n",
    "    print()\n",
    "    almanac = getAlmanac(lines[1:])\n",
    "    for row in almanac:\n",
    "        print(row)\n",
    "    print()\n",
    "    # Good up til here\n",
    "    SEARCH_MIN = 1\n",
    "    SEARCH_MAX = 1_000_000\n",
    "    print(f\"Searching between {SEARCH_MIN}-{SEARCH_MAX}\")\n",
    "    for n in range(SEARCH_MIN, SEARCH_MAX):\n",
    "        if not n % 10_000: \n",
    "            print(n)\n",
    "        loc_cand = n\n",
    "        found = False\n",
    "        for i,map in enumerate(almanac):\n",
    "            found = False\n",
    "            for a_min, a_max, b_min, b_max in map:\n",
    "                if not found and a_min <= loc_cand < a_max:\n",
    "                    delta = b_min - a_min\n",
    "                    loc_cand += delta\n",
    "                    found = True\n",
    "        if any([loc_cand in range(S[0], S[1]) for S in seeds]):\n",
    "            return n\n",
    "    return 0\n",
    "\n",
    "def p2(lines, search_min, search_max):\n",
    "    sR = sorted(seedRanges(lines))\n",
    "    seeds = yieldClopens(sR)\n",
    "    almanac = getAlmanac(lines[1:])\n",
    "    print(f\"Searching between {search_min}-{search_max}\")\n",
    "    for n in range(search_min, search_max):\n",
    "        #if not n % 1_000_000:  print(n)\n",
    "        loc_cand = n\n",
    "        found = False\n",
    "        for i,map in enumerate(almanac):\n",
    "            found = False\n",
    "            for a_min, a_max, b_min, b_max in map:\n",
    "                if not found and a_min <= loc_cand < a_max:\n",
    "                    delta = b_min - a_min\n",
    "                    loc_cand += delta\n",
    "                    found = True\n",
    "        if any([loc_cand in range(S[0], S[1]) for S in seeds]):\n",
    "            return n\n",
    "    return 0\n"
   ]
  },
  {
   "cell_type": "code",
   "execution_count": 28,
   "metadata": {},
   "outputs": [
    {
     "name": "stdout",
     "output_type": "stream",
     "text": [
      "Searching between 1-100\n",
      "46\n"
     ]
    }
   ],
   "source": [
    "print(p2(TEST,1,100))\n"
   ]
  },
  {
   "cell_type": "code",
   "execution_count": 29,
   "metadata": {},
   "outputs": [
    {
     "name": "stdout",
     "output_type": "stream",
     "text": [
      "Searching between 55000000-551761867\n",
      "57451709\n"
     ]
    }
   ],
   "source": [
    "# up to 30_000_000 took 5 minutes.\n",
    "# need to come back and make this more efficient lol\n",
    "search_floor = 55_000_000\n",
    "print(p2(A, search_floor, p1_ans))\n"
   ]
  },
  {
   "cell_type": "code",
   "execution_count": null,
   "metadata": {},
   "outputs": [],
   "source": []
  }
 ],
 "metadata": {
  "kernelspec": {
   "display_name": "Python 3",
   "language": "python",
   "name": "python3"
  },
  "language_info": {
   "codemirror_mode": {
    "name": "ipython",
    "version": 3
   },
   "file_extension": ".py",
   "mimetype": "text/x-python",
   "name": "python",
   "nbconvert_exporter": "python",
   "pygments_lexer": "ipython3",
   "version": "3.11.0"
  }
 },
 "nbformat": 4,
 "nbformat_minor": 2
}
