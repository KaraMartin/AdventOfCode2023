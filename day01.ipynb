{
 "cells": [
  {
   "cell_type": "code",
   "execution_count": 5,
   "metadata": {},
   "outputs": [],
   "source": [
    "# Advent of Code 2023\n",
    "# Day 1 Problem 1\n",
    "import re\n",
    "\n",
    "with open(\"aoc_01_input.txt\") as f:\n",
    "    day1 = f.readlines()\n"
   ]
  },
  {
   "cell_type": "code",
   "execution_count": 6,
   "metadata": {},
   "outputs": [
    {
     "name": "stdout",
     "output_type": "stream",
     "text": [
      "55208\n"
     ]
    }
   ],
   "source": [
    "s = sum([int(re.search(r'\\d', A).group(0) + re.search(r'\\d', A[::-1]).group(0)) for A in day1])\n",
    "print(s)"
   ]
  },
  {
   "cell_type": "code",
   "execution_count": 7,
   "metadata": {},
   "outputs": [
    {
     "name": "stdout",
     "output_type": "stream",
     "text": [
      "{'one': '1', 'two': '2', 'three': '3', 'four': '4', 'five': '5', 'six': '6', 'seven': '7', 'eight': '8', 'nine': '9'}\n"
     ]
    }
   ],
   "source": [
    "m = {\"one\": \"1\", \"two\": \"2\", \"three\": \"3\", \"four\": \"4\", \"five\": \"5\", \"six\": \"6\", \"seven\": \"7\", \"eight\": \"8\", \"nine\": \"9\"}\n",
    "print(m)"
   ]
  },
  {
   "cell_type": "code",
   "execution_count": 8,
   "metadata": {},
   "outputs": [
    {
     "name": "stdout",
     "output_type": "stream",
     "text": [
      "54578\n"
     ]
    }
   ],
   "source": [
    "t = 0\n",
    "for A in day1:\n",
    "    cands = \"\"\n",
    "    for i in range(len(A)):\n",
    "        if A[i] in \"otfsen\":\n",
    "            for j in m.keys():\n",
    "                if A[i:i+len(j)] == j:\n",
    "                    cands += m[j]\n",
    "        elif A[i].isdigit():\n",
    "            cands += A[i]\n",
    "    t += int(cands[0] + cands[-1])\n",
    "print(t)\n"
   ]
  }
 ],
 "metadata": {
  "kernelspec": {
   "display_name": "Python 3",
   "language": "python",
   "name": "python3"
  },
  "language_info": {
   "codemirror_mode": {
    "name": "ipython",
    "version": 3
   },
   "file_extension": ".py",
   "mimetype": "text/x-python",
   "name": "python",
   "nbconvert_exporter": "python",
   "pygments_lexer": "ipython3",
   "version": "3.8.5"
  }
 },
 "nbformat": 4,
 "nbformat_minor": 4
}
