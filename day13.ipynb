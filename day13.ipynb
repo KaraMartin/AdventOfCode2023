{
 "cells": [
  {
   "cell_type": "code",
   "execution_count": 46,
   "metadata": {},
   "outputs": [],
   "source": [
    "# Advent of Code 2023\n",
    "# Day 13 Problem 1\n",
    "import re\n",
    "from collections import Counter\n",
    "import functools\n",
    "\n",
    "with open(\"aoc_13_input.txt\") as f:\n",
    "    A = f.read().strip()\n",
    "\n",
    "# c+p test case here\n",
    "TEST = \"\"\"#.##..##.\n",
    "..#.##.#.\n",
    "##......#\n",
    "##......#\n",
    "..#.##.#.\n",
    "..##..##.\n",
    "#.#.##.#.\n",
    "\n",
    "#...##..#\n",
    "#....#..#\n",
    "..##..###\n",
    "#####.##.\n",
    "#####.##.\n",
    "..##..###\n",
    "#....#..#\"\"\".strip()\n"
   ]
  },
  {
   "cell_type": "code",
   "execution_count": 47,
   "metadata": {},
   "outputs": [],
   "source": [
    "def parse(inp):\n",
    "    patterns = inp.split(\"\\n\\n\")\n",
    "    res = []\n",
    "    for pattern in patterns:\n",
    "        res.append([row for row in pattern.split(\"\\n\")])\n",
    "    return res\n",
    "\n",
    "def checkHor(p):\n",
    "    numRows = len(p)\n",
    "    for i, row in enumerate(p):\n",
    "        top = p[:i][::-1]\n",
    "        bot = p[i:]\n",
    "        if not top or not bot:\n",
    "            continue\n",
    "        T, B = len(top), len(bot)\n",
    "        if all([top[j] == bot[j] for j in range(min(T,B))]):\n",
    "            # return how many rows above fold\n",
    "            return T\n",
    "    return 0\n",
    "\n",
    "def checkVert(p):\n",
    "    return checkHor(list(zip(*p[::-1])))\n",
    "\n",
    "def p1(inp):\n",
    "    patterns = parse(inp)\n",
    "    res = 0\n",
    "    for pattern in patterns:\n",
    "        H = checkHor(pattern)\n",
    "        V = checkVert(pattern)\n",
    "        res += 100* H + V\n",
    "    return res\n"
   ]
  },
  {
   "cell_type": "code",
   "execution_count": 48,
   "metadata": {},
   "outputs": [
    {
     "data": {
      "text/plain": [
       "405"
      ]
     },
     "execution_count": 48,
     "metadata": {},
     "output_type": "execute_result"
    }
   ],
   "source": [
    "p1(TEST)"
   ]
  },
  {
   "cell_type": "code",
   "execution_count": 49,
   "metadata": {},
   "outputs": [
    {
     "data": {
      "text/plain": [
       "29213"
      ]
     },
     "execution_count": 49,
     "metadata": {},
     "output_type": "execute_result"
    }
   ],
   "source": [
    "p1(A)"
   ]
  },
  {
   "cell_type": "code",
   "execution_count": 50,
   "metadata": {},
   "outputs": [
    {
     "data": {
      "text/plain": [
       "1"
      ]
     },
     "execution_count": 50,
     "metadata": {},
     "output_type": "execute_result"
    }
   ],
   "source": [
    "def myXORcount(a, b):\n",
    "    return sum([1 if c != d else 0 for c, d in zip(a,b)])\n",
    "\n",
    "myXORcount(\"#.##..##.\", \"..##..##.\")"
   ]
  },
  {
   "cell_type": "code",
   "execution_count": 51,
   "metadata": {},
   "outputs": [],
   "source": [
    "def checkHorP2(p):\n",
    "    numRows = len(p)\n",
    "    for i, row in enumerate(p):\n",
    "        top = p[:i][::-1]\n",
    "        bot = p[i:]\n",
    "        if not top or not bot:\n",
    "            continue\n",
    "        if sum([myXORcount(a, b) for a,b in zip(top,bot)]) == 1:\n",
    "            return len(top)\n",
    "    return 0\n",
    "\n",
    "def checkVertP2(p):\n",
    "    return checkHorP2(list(zip(*p[::-1])))\n",
    "\n",
    "def p2(inp):\n",
    "    patterns = parse(inp)\n",
    "    res = 0\n",
    "    for pattern in patterns:\n",
    "        H = checkHorP2(pattern)\n",
    "        V = checkVertP2(pattern)\n",
    "        res += 100* H + V\n",
    "    return res"
   ]
  },
  {
   "cell_type": "code",
   "execution_count": 52,
   "metadata": {},
   "outputs": [
    {
     "data": {
      "text/plain": [
       "400"
      ]
     },
     "execution_count": 52,
     "metadata": {},
     "output_type": "execute_result"
    }
   ],
   "source": [
    "p2(TEST)"
   ]
  },
  {
   "cell_type": "code",
   "execution_count": 53,
   "metadata": {},
   "outputs": [
    {
     "name": "stdout",
     "output_type": "stream",
     "text": [
      "1\n"
     ]
    }
   ],
   "source": [
    "top = \"\"\"#.##..##.\n",
    "..#.##.#.\n",
    "##......#\"\"\".split(\"\\n\")[::-1]\n",
    "\n",
    "bot = \"\"\"##......#\n",
    "..#.##.#.\n",
    "..##..##.\n",
    "#.#.##.#.\"\"\".split(\"\\n\")\n",
    "\n",
    "print(sum([myXORcount(a, b) for a,b in zip(top,bot)]))"
   ]
  },
  {
   "cell_type": "code",
   "execution_count": 54,
   "metadata": {},
   "outputs": [
    {
     "data": {
      "text/plain": [
       "37453"
      ]
     },
     "execution_count": 54,
     "metadata": {},
     "output_type": "execute_result"
    }
   ],
   "source": [
    "p2(A)"
   ]
  },
  {
   "cell_type": "code",
   "execution_count": null,
   "metadata": {},
   "outputs": [],
   "source": []
  }
 ],
 "metadata": {
  "kernelspec": {
   "display_name": "base",
   "language": "python",
   "name": "python3"
  },
  "language_info": {
   "codemirror_mode": {
    "name": "ipython",
    "version": 3
   },
   "file_extension": ".py",
   "mimetype": "text/x-python",
   "name": "python",
   "nbconvert_exporter": "python",
   "pygments_lexer": "ipython3",
   "version": "3.8.5"
  }
 },
 "nbformat": 4,
 "nbformat_minor": 2
}
