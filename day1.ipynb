{
 "cells": [
  {
   "cell_type": "code",
   "execution_count": 1,
   "metadata": {},
   "outputs": [],
   "source": [
    "# Advent of Code 2023\n",
    "# Day 1 Problem 1\n",
    "\n",
    "\n",
    "with open(\"aoc_01_input.txt\") as f:\n",
    "    lines = f.readlines()"
   ]
  },
  {
   "cell_type": "code",
   "execution_count": 2,
   "metadata": {},
   "outputs": [],
   "source": [
    "import re"
   ]
  },
  {
   "cell_type": "code",
   "execution_count": 3,
   "metadata": {},
   "outputs": [
    {
     "name": "stdout",
     "output_type": "stream",
     "text": [
      "55208\n"
     ]
    }
   ],
   "source": [
    "s = sum([int(re.search(r'\\d', line).group(0) + re.search(r'\\d', line[::-1]).group(0)) for line in lines])\n",
    "print(s)"
   ]
  },
  {
   "cell_type": "code",
   "execution_count": 4,
   "metadata": {},
   "outputs": [
    {
     "name": "stdout",
     "output_type": "stream",
     "text": [
      "{'one': '1', 'two': '2', 'three': '3', 'four': '4', 'five': '5', 'six': '6', 'seven': '7', 'eight': '8', 'nine': '9'}\n"
     ]
    }
   ],
   "source": [
    "m = {\"one\": \"1\", \n",
    "     \"two\": \"2\", \n",
    "     \"three\": \"3\", \n",
    "     \"four\": \"4\", \n",
    "     \"five\": \"5\", \n",
    "     \"six\": \"6\", \n",
    "     \"seven\": \"7\", \n",
    "     \"eight\": \"8\", \n",
    "     \"nine\": \"9\"}\n",
    "print(m)"
   ]
  },
  {
   "cell_type": "code",
   "execution_count": 5,
   "metadata": {},
   "outputs": [
    {
     "name": "stdout",
     "output_type": "stream",
     "text": [
      "54578\n"
     ]
    }
   ],
   "source": [
    "t = 0\n",
    "for line in lines:\n",
    "    cands = \"\"\n",
    "    left = 0\n",
    "    \n",
    "    for i in range(len(line)):\n",
    "        if line[i].isdigit():\n",
    "            cands += line[i]\n",
    "        for j in m.keys():\n",
    "            if line[i:i+len(j)] == j:\n",
    "                cands += m[j]\n",
    "                \n",
    "    t += int(cands[0] + cands[-1])\n",
    "print(t)"
   ]
  },
  {
   "cell_type": "code",
   "execution_count": null,
   "metadata": {},
   "outputs": [],
   "source": []
  },
  {
   "cell_type": "code",
   "execution_count": null,
   "metadata": {},
   "outputs": [],
   "source": []
  },
  {
   "cell_type": "code",
   "execution_count": null,
   "metadata": {},
   "outputs": [],
   "source": []
  },
  {
   "cell_type": "code",
   "execution_count": null,
   "metadata": {},
   "outputs": [],
   "source": []
  }
 ],
 "metadata": {
  "kernelspec": {
   "display_name": "Python 3",
   "language": "python",
   "name": "python3"
  },
  "language_info": {
   "codemirror_mode": {
    "name": "ipython",
    "version": 3
   },
   "file_extension": ".py",
   "mimetype": "text/x-python",
   "name": "python",
   "nbconvert_exporter": "python",
   "pygments_lexer": "ipython3",
   "version": "3.8.5"
  }
 },
 "nbformat": 4,
 "nbformat_minor": 4
}
