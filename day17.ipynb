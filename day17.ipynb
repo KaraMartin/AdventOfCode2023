{
 "cells": [
  {
   "cell_type": "code",
   "execution_count": 1,
   "metadata": {},
   "outputs": [
    {
     "name": "stdout",
     "output_type": "stream",
     "text": [
      "0:\t2413432311323\n",
      "1:\t3215453535623\n",
      "2:\t3255245654254\n",
      "3:\t3446585845452\n",
      "4:\t4546657867536\n",
      "5:\t1438598798454\n",
      "6:\t4457876987766\n",
      "7:\t3637877979653\n",
      "8:\t4654967986887\n",
      "9:\t4564679986453\n",
      "10:\t1224686865563\n",
      "11:\t2546548887735\n",
      "12:\t4322674655533\n"
     ]
    }
   ],
   "source": [
    "# Advent of Code 2023\n",
    "# Day 17 Problem 1\n",
    "import re\n",
    "from collections import Counter\n",
    "import functools\n",
    "\n",
    "with open(\"aoc_17_input.txt\") as f:\n",
    "    A = f.read().strip().split(\"\\n\")\n",
    "\n",
    "# c+p test case here\n",
    "TEST = \"\"\"2413432311323\n",
    "3215453535623\n",
    "3255245654254\n",
    "3446585845452\n",
    "4546657867536\n",
    "1438598798454\n",
    "4457876987766\n",
    "3637877979653\n",
    "4654967986887\n",
    "4564679986453\n",
    "1224686865563\n",
    "2546548887735\n",
    "4322674655533\"\"\".strip().split(\"\\n\")\n",
    "\n",
    "for i, line in enumerate(TEST):\n",
    "    print(f\"{i}:\\t{line}\")"
   ]
  },
  {
   "cell_type": "code",
   "execution_count": 15,
   "metadata": {},
   "outputs": [],
   "source": [
    "import heapq\n",
    "from collections import defaultdict\n",
    "\n",
    "def parse(inp):\n",
    "    return [[int(x) for x in row] for row in inp]\n",
    "\n",
    "# trying manhattan distance\n",
    "def heur(x, y, M):\n",
    "    H = len(M) - 1\n",
    "    W = len(M[0]) - 1\n",
    "    return abs(H - x) + abs(W - y)\n",
    "\n",
    "def max3AStar(start, goal, M):\n",
    "    # A* selects the path that minimizes f(n) = g(n) + h(n)\n",
    "    # n is next node\n",
    "    # g(n) is the cost of the path from the start (current heat)\n",
    "    # h(n) is a heuristic that estimates the cost of the cheapest path from n to goal\n",
    "    # === \n",
    "    # N 0, E 1, S 2, W 3 \n",
    "    # x y dir heat \n",
    "    frontier = []\n",
    "    gScore = defaultdict(lambda: defaultdict(lambda:999_999_999))\n",
    "    gScore[start] = {0:0, 1:0, 2:0, 3:0} \n",
    "    fScore = defaultdict(lambda: defaultdict(lambda:999_999_999))\n",
    "    startHeur = heur(*start,M)\n",
    "    fScore[start] = {0:startHeur, 1:startHeur, 2:startHeur, 3:startHeur}\n",
    "    for x in [0,1,2,3]:\n",
    "        heapq.heappush(frontier, (x+1, (*start, x, 0)))\n",
    "    H = len(M)\n",
    "    W = len(M[0])\n",
    "    dirs = {\n",
    "        (0,1): 1,\n",
    "        (0,-1): 3,\n",
    "        (1,0): 2,\n",
    "        (-1,0): 0\n",
    "    }\n",
    "\n",
    "    while frontier:\n",
    "        _, (x,y,dir,heat) = heapq.heappop(frontier)\n",
    "        if (x,y) == goal:\n",
    "            return heat\n",
    "\n",
    "        # ignore the entire direction we came, forward and back\n",
    "        if dir % 2 == 1:    options = {(1,0), (-1, 0)} \n",
    "        else:               options = {(0,1), (0,-1)}\n",
    "\n",
    "        for (dx,dy) in options:\n",
    "            # consider all 3 steps at once\n",
    "            buildingHeat = 0\n",
    "            dd = dirs[(dx,dy)]\n",
    "            for i in [1,2,3]:\n",
    "                xx = x + dx * i\n",
    "                yy = y + dy * i\n",
    "                if xx < 0 or yy < 0 or xx >= H or yy >= W:\n",
    "                    continue\n",
    "\n",
    "                buildingHeat += M[xx][yy]\n",
    "                tentativeG = heat + buildingHeat\n",
    "                \n",
    "                # if this is a better path than what we have...\n",
    "                if tentativeG < gScore[(xx,yy)][dd]:\n",
    "                    gScore[(xx,yy)][dd] = tentativeG\n",
    "                    currH = heur(xx,yy,M)\n",
    "                    fScore[(xx,yy)][dd] = tentativeG + currH\n",
    "                    nextCand =  (xx,yy,dd,tentativeG)\n",
    "                    priority = tentativeG + currH\n",
    "                    heapq.heappush(frontier, (priority, nextCand))\n",
    "\n",
    "def p1(inp):\n",
    "    heatLoss = parse(inp)\n",
    "    H = len(inp)\n",
    "    W = len(inp[0])\n",
    "    totalHeat = max3AStar((0,0), (H-1, W-1), heatLoss)\n",
    "    print(f\"Total heat is {totalHeat}\")\n",
    "            "
   ]
  },
  {
   "cell_type": "code",
   "execution_count": 16,
   "metadata": {},
   "outputs": [
    {
     "name": "stdout",
     "output_type": "stream",
     "text": [
      "Total heat is 102\n"
     ]
    }
   ],
   "source": [
    "# Expected output: 102\n",
    "p1(TEST)"
   ]
  },
  {
   "cell_type": "code",
   "execution_count": 17,
   "metadata": {},
   "outputs": [
    {
     "name": "stdout",
     "output_type": "stream",
     "text": [
      "Total heat is 886\n"
     ]
    }
   ],
   "source": [
    "p1(A)"
   ]
  },
  {
   "cell_type": "code",
   "execution_count": 5,
   "metadata": {},
   "outputs": [],
   "source": [
    "\n",
    "def sweetSpotAStart(start, goal, M, mindist, maxdist):\n",
    "    # A* selects the path that minimizes f(n) = g(n) + h(n)\n",
    "    # n is next node\n",
    "    # g(n) is the cost of the path from the start (current heat)\n",
    "    # h(n) is a heuristic that estimates the cost of the cheapest path from n to goal\n",
    "    # === \n",
    "    # N 0, E 1, S 2, W 3 \n",
    "    # x y dir heat \n",
    "    frontier = []\n",
    "    gScore = defaultdict(lambda: defaultdict(lambda:999_999_999))\n",
    "    gScore[start] = {0:0, 1:0, 2:0, 3:0} \n",
    "    fScore = defaultdict(lambda: defaultdict(lambda:999_999_999))\n",
    "    startHeur = heur(*start,M)\n",
    "    fScore[start] = {0:startHeur, 1:startHeur, 2:startHeur, 3:startHeur}\n",
    "    for x in [0,1,2,3]:\n",
    "        heapq.heappush(frontier, (x+1, (*start, x, 0)))\n",
    "    H = len(M)\n",
    "    W = len(M[0])\n",
    "\n",
    "    while frontier:\n",
    "        _, (x,y,dir,heat) = heapq.heappop(frontier)\n",
    "        if (x,y) == goal:\n",
    "            return heat\n",
    "\n",
    "        for dd,(dx,dy) in enumerate([(-1,0), (0,1), (1,0), (0,-1)]):\n",
    "            # ignore the entire direction, forward and back, we came\n",
    "            if dd == (dir + 2) % 4 or dd == dir:\n",
    "                continue\n",
    "\n",
    "            # consider all (mindist..maxdist) steps at once\n",
    "            for i in range(mindist, maxdist+1):\n",
    "                xx = x + dx * i\n",
    "                yy = y + dy * i\n",
    "                if xx < 0 or yy < 0 or xx >= H or yy >= W:\n",
    "                    continue\n",
    "\n",
    "                if dd == 1:     delta = sum(M[x][y+1:yy+1])\n",
    "                elif dd == 3:   delta = sum(M[x][yy:y])\n",
    "                elif dd == 0:   delta = sum([M[xxx][y] for xxx in range(xx,x)])\n",
    "                else:           delta = sum([M[xxx][y] for xxx in range(x+1,xx+1)])\n",
    "                tentG = heat + delta\n",
    "\n",
    "                # if this is a better path than what we have...\n",
    "                if tentG < gScore[(xx,yy)][dd]:\n",
    "                    gScore[(xx,yy)][dd] = tentG\n",
    "                    candH = heur(xx,yy,M)\n",
    "                    fScore[(xx,yy)][dd] = tentG + candH\n",
    "                    nextCand = (xx,yy,dd,tentG)\n",
    "                    heapq.heappush(frontier, (tentG + candH, nextCand))\n",
    "\n",
    "def p2(inp):\n",
    "    heatLoss = parse(inp)\n",
    "    H = len(inp)\n",
    "    W = len(inp[0])\n",
    "    totalHeat= sweetSpotAStart((0,0), (H-1, W-1), heatLoss, 4, 10)\n",
    "    print(f\"Total heat is {totalHeat}\")"
   ]
  },
  {
   "cell_type": "code",
   "execution_count": 6,
   "metadata": {},
   "outputs": [
    {
     "name": "stdout",
     "output_type": "stream",
     "text": [
      "Total heat is 94\n"
     ]
    }
   ],
   "source": [
    "# expected output: 94\n",
    "p2(TEST)"
   ]
  },
  {
   "cell_type": "code",
   "execution_count": 7,
   "metadata": {},
   "outputs": [
    {
     "name": "stdout",
     "output_type": "stream",
     "text": [
      "Total heat is 71\n"
     ]
    }
   ],
   "source": [
    "TESTB = \"\"\"111111111111\n",
    "999999999991\n",
    "999999999991\n",
    "999999999991\n",
    "999999999991\"\"\".split(\"\\n\")\n",
    "\n",
    "# expected output: 71\n",
    "p2(TESTB)"
   ]
  },
  {
   "cell_type": "code",
   "execution_count": 8,
   "metadata": {},
   "outputs": [
    {
     "name": "stdout",
     "output_type": "stream",
     "text": [
      "Total heat is 1055\n"
     ]
    }
   ],
   "source": [
    "p2(A)\n",
    "# 900 is too low but the right answer for someone else :O"
   ]
  },
  {
   "cell_type": "code",
   "execution_count": null,
   "metadata": {},
   "outputs": [],
   "source": [
    "# I did A* here but really Dijkstra's would have been easier and faster and gotten the same result\n",
    "# since my heuristic function (manhattan dist) is not actually doing much for me here and is \n",
    "# probably a detriment in p2."
   ]
  }
 ],
 "metadata": {
  "kernelspec": {
   "display_name": "base",
   "language": "python",
   "name": "python3"
  },
  "language_info": {
   "codemirror_mode": {
    "name": "ipython",
    "version": 3
   },
   "file_extension": ".py",
   "mimetype": "text/x-python",
   "name": "python",
   "nbconvert_exporter": "python",
   "pygments_lexer": "ipython3",
   "version": "3.8.5"
  }
 },
 "nbformat": 4,
 "nbformat_minor": 2
}
