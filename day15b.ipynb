{
 "cells": [
  {
   "cell_type": "code",
   "execution_count": 9,
   "metadata": {},
   "outputs": [
    {
     "name": "stdout",
     "output_type": "stream",
     "text": [
      "0: rn=1\n",
      "1: cm-\n",
      "2: qp=3\n",
      "3: cm=2\n",
      "4: qp-\n",
      "5: pc=4\n",
      "6: ot=9\n",
      "7: ab=5\n",
      "8: pc-\n",
      "9: pc=6\n",
      "10: ot=7\n"
     ]
    }
   ],
   "source": [
    "# Advent of Code 2023\n",
    "# Day 15 Problem 2\n",
    "# I forgot to push my part 1 code so I'm just quickly rewriting it\n",
    "import re\n",
    "from collections import Counter\n",
    "import functools\n",
    "\n",
    "with open(\"aoc_15_input.txt\") as f:\n",
    "    A = f.read().strip().split(\",\")\n",
    "\n",
    "# c+p test case here\n",
    "TEST = \"\"\"rn=1,cm-,qp=3,cm=2,qp-,pc=4,ot=9,ab=5,pc-,pc=6,ot=7\"\"\".strip().split(\",\")\n",
    "\n",
    "for i, line in enumerate(TEST):\n",
    "    print(f\"{i}: {line}\")"
   ]
  },
  {
   "cell_type": "code",
   "execution_count": 10,
   "metadata": {},
   "outputs": [],
   "source": [
    "def HASH(st):\n",
    "    res = 0\n",
    "    for c in st:\n",
    "        res += ord(c)\n",
    "        res *= 17\n",
    "        res %= 256\n",
    "    return res\n",
    "\n",
    "def p1(inp):\n",
    "    return sum([HASH(x) for x in inp])"
   ]
  },
  {
   "cell_type": "code",
   "execution_count": 11,
   "metadata": {},
   "outputs": [
    {
     "data": {
      "text/plain": [
       "1320"
      ]
     },
     "execution_count": 11,
     "metadata": {},
     "output_type": "execute_result"
    }
   ],
   "source": [
    "# expected output: 1320\n",
    "p1(TEST)"
   ]
  },
  {
   "cell_type": "code",
   "execution_count": 12,
   "metadata": {},
   "outputs": [
    {
     "data": {
      "text/plain": [
       "511215"
      ]
     },
     "execution_count": 12,
     "metadata": {},
     "output_type": "execute_result"
    }
   ],
   "source": [
    "p1(A)"
   ]
  },
  {
   "cell_type": "code",
   "execution_count": 13,
   "metadata": {},
   "outputs": [],
   "source": [
    "from collections import OrderedDict\n",
    "\n",
    "def p2(inp):\n",
    "    BOXES = [OrderedDict() for _ in range(256)]\n",
    "    for inst in inp:\n",
    "        if \"-\" in inst:\n",
    "            label = inst.split(\"-\")[0]\n",
    "            L = HASH(label)\n",
    "            if label in BOXES[L]:\n",
    "                del BOXES[L][label]\n",
    "        else:\n",
    "            # = case\n",
    "            label, value = inst.split(\"=\")\n",
    "            L = HASH(label)\n",
    "            BOXES[L][label] = int(value)\n",
    "    \n",
    "    res = 0\n",
    "    for i, BOX in enumerate(BOXES, start=1):\n",
    "        for j, lens in enumerate(BOX, start=1):\n",
    "            res += i * j * BOX[lens]\n",
    "    return res\n",
    "\n"
   ]
  },
  {
   "cell_type": "code",
   "execution_count": 14,
   "metadata": {},
   "outputs": [
    {
     "data": {
      "text/plain": [
       "145"
      ]
     },
     "execution_count": 14,
     "metadata": {},
     "output_type": "execute_result"
    }
   ],
   "source": [
    "# expected output: 145\n",
    "p2(TEST)"
   ]
  },
  {
   "cell_type": "code",
   "execution_count": 15,
   "metadata": {},
   "outputs": [
    {
     "data": {
      "text/plain": [
       "236057"
      ]
     },
     "execution_count": 15,
     "metadata": {},
     "output_type": "execute_result"
    }
   ],
   "source": [
    "p2(A)"
   ]
  },
  {
   "cell_type": "code",
   "execution_count": null,
   "metadata": {},
   "outputs": [],
   "source": []
  }
 ],
 "metadata": {
  "kernelspec": {
   "display_name": "Python 3",
   "language": "python",
   "name": "python3"
  },
  "language_info": {
   "codemirror_mode": {
    "name": "ipython",
    "version": 3
   },
   "file_extension": ".py",
   "mimetype": "text/x-python",
   "name": "python",
   "nbconvert_exporter": "python",
   "pygments_lexer": "ipython3",
   "version": "3.11.0"
  }
 },
 "nbformat": 4,
 "nbformat_minor": 2
}
