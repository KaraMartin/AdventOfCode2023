{
 "cells": [
  {
   "cell_type": "code",
   "execution_count": 1,
   "metadata": {},
   "outputs": [
    {
     "name": "stdout",
     "output_type": "stream",
     "text": [
      "0:\t1,0,1~1,2,1\n",
      "1:\t0,0,2~2,0,2\n",
      "2:\t0,2,3~2,2,3\n",
      "3:\t0,0,4~0,2,4\n",
      "4:\t2,0,5~2,2,5\n",
      "5:\t0,1,6~2,1,6\n",
      "6:\t1,1,8~1,1,9\n"
     ]
    }
   ],
   "source": [
    "# Advent of Code 2023\n",
    "# Day 22 Problem 1\n",
    "import re\n",
    "from collections import Counter\n",
    "import functools\n",
    "\n",
    "with open(\"aoc_22_input.txt\") as f:\n",
    "    A = f.read().strip().split(\"\\n\")\n",
    "\n",
    "# c+p test case here\n",
    "TEST = \"\"\"1,0,1~1,2,1\n",
    "0,0,2~2,0,2\n",
    "0,2,3~2,2,3\n",
    "0,0,4~0,2,4\n",
    "2,0,5~2,2,5\n",
    "0,1,6~2,1,6\n",
    "1,1,8~1,1,9\"\"\".strip().split(\"\\n\")\n",
    "\n",
    "for i, line in enumerate(TEST):\n",
    "    print(f\"{i}:\\t{line}\")"
   ]
  },
  {
   "cell_type": "code",
   "execution_count": 2,
   "metadata": {},
   "outputs": [],
   "source": [
    "\"\"\" \n",
    "Each brick is a single straight line of cubes\n",
    "\n",
    "sort by Z value\n",
    "\n",
    "fall down, maintaining relationship of \"supporting\" and \"supported by\"\n",
    "\n",
    "1. make bricks\n",
    "2. fall as far down\n",
    "3. iterate on bricks to resolve relationships\n",
    "4. iterate for problem solution query\n",
    "\"\"\"\n",
    "\n",
    "from collections import deque\n",
    "\n",
    "class ThreeDimGrid: \n",
    "    def __init__(self, input, printErrors=False) -> None:\n",
    "        bricks = [SandBrick(i, line) for i, line in enumerate(input)]\n",
    "        \n",
    "        # if printErrors:\n",
    "        #     print(\"Input bricks:\")\n",
    "        #     for b in bricks:\n",
    "        #         b.pprint()\n",
    "        #     print()\n",
    "\n",
    "        # we want O(1) poplefts so use deque\n",
    "        self.z_sorted_bricks = deque(sorted([brick for brick in bricks if brick.getZs()[0] > 1], key= lambda b: (b.getZs(), b.getXs(), b.getYs())))\n",
    "        self.settled = sorted([brick for brick in bricks if brick.getZs()[0] == 1], key= lambda b: (b.getZs(), b.getXs(), b.getYs()))\n",
    "\n",
    "        if printErrors:\n",
    "            print(\"Settled bricks:\")\n",
    "            for b in self.settled:\n",
    "                b.pprint()\n",
    "            print()\n",
    "\n",
    "            print(\"Bricks falling...\")  \n",
    "\n",
    "        self.gravity(printErrors)\n",
    "        self.establishSupports()\n",
    "\n",
    "        if printErrors:\n",
    "            print()\n",
    "            print(\"Settled bricks with supports:\")\n",
    "            for b in self.settled:\n",
    "                b.pprintsups()\n",
    "            print()\n",
    "\n",
    "        return\n",
    "    \n",
    "    def gravity(self, printErrors=False):\n",
    "        while self.z_sorted_bricks:\n",
    "            curr = self.z_sorted_bricks.popleft()\n",
    "            if printErrors:\n",
    "                curr.pprint()\n",
    "\n",
    "            cXMin, cXMax = curr.getXs()\n",
    "            cYMin, cYMax = curr.getYs()\n",
    "            cZMin, cZMax = curr.getZs()\n",
    "            deltaZ = cZMax - cZMin\n",
    "\n",
    "            candZs = []\n",
    "            for lower in reversed(self.settled):\n",
    "                lowerZMin, lowerZMax = lower.getZs()\n",
    "                if lowerZMin >= cZMin:\n",
    "                    continue\n",
    "\n",
    "                lowerXMin, lowerXMax = lower.getXs()\n",
    "                lowerYMin, lowerYMax = lower.getYs()\n",
    "                # check for xy intersection\n",
    "                if len(range(max(cXMin, lowerXMin), min(cXMax, lowerXMax)+1)) and len(range(max(cYMin, lowerYMin), min(cYMax, lowerYMax)+1)):\n",
    "                    if printErrors:\n",
    "                        print(f\"current brick {curr.A} ~ {curr.B} will lay on cand brick {lower.A} ~ {lower.B} on Z-level {lowerZMax + 1}\")\n",
    "                        print(f\"\\tX: {range(max(cXMin, lowerXMin), min(cXMax, lowerXMax)+1)}\\tY: {range(max(cYMin, lowerYMin), min(cYMax, lowerYMax)+1)}\")\n",
    "                    candZs.append(lowerZMax)\n",
    "\n",
    "            if not candZs:\n",
    "                curr.setZs(1, 1 + deltaZ)\n",
    "            else:\n",
    "                winner = max(candZs) + 1\n",
    "                curr.setZs(winner, winner + deltaZ)\n",
    "            self.settled.append(curr)\n",
    "            \n",
    "            if printErrors:\n",
    "                curr.pprint()\n",
    "                print()\n",
    "\n",
    "    def establishSupports(self):\n",
    "        sortedByMinZ = sorted(self.settled, key=lambda brick: (brick.getZs()))\n",
    "\n",
    "        for curr in sortedByMinZ:\n",
    "            cXMin, cXMax = curr.getXs()\n",
    "            cYMin, cYMax = curr.getYs()\n",
    "            cZMin, cZMax = curr.getZs()\n",
    "            cands = list(filter(lambda b: b.getZs()[1] == cZMin - 1, self.settled ))\n",
    "            #print(curr.id, [cand.id for cand in cands])\n",
    "\n",
    "            for cand in cands:\n",
    "                lowerXMin, lowerXMax = cand.getXs()\n",
    "                lowerYMin, lowerYMax = cand.getYs()\n",
    "                if len(range(max(cXMin, lowerXMin), min(cXMax, lowerXMax)+1)) and len(range(max(cYMin, lowerYMin), min(cYMax, lowerYMax)+1)):\n",
    "                    # print(f\"{'ABCDEFGHIJKLMNOPQRSTUVWXYZ'[brick.id]} is supported by {'ABCDEFGHIJKLMNOPQRSTUVWXYZ'[cand.id]}\")\n",
    "                    curr.addSupportedBy(cand.id)\n",
    "                    cand.addSupport(curr.id)\n",
    "    \n",
    "    def jenga(self, printErrors=False):\n",
    "        self.unsafeToRemove = set()\n",
    "        for brick in self.settled:\n",
    "            if len(brick.supportedBy) == 1:\n",
    "                self.unsafeToRemove.add(brick.supportedBy[0])\n",
    "        S = len(self.settled)\n",
    "        U = len(self.unsafeToRemove)\n",
    "        if printErrors:\n",
    "            print(f\"There are {S} bricks and {U} cannot be removed, leaving {S-U} safe to remove\")\n",
    "        return S - U\n",
    "\n",
    "\n",
    "class SandBrick:\n",
    "    def __init__(self, id, line) -> None:\n",
    "        self.id = id\n",
    "        coords = line.split(\"~\")\n",
    "        tmp1 = [int(x) for x in coords[0].split(\",\")]\n",
    "        tmp2 = [int(x) for x in coords[1].split(\",\")]\n",
    "        if tmp1[0] <= tmp2[0] and tmp1[1] <= tmp2[1] and tmp1[2] <= tmp2[2]:\n",
    "            self.A = tmp1\n",
    "            self.B = tmp2\n",
    "        else:\n",
    "            self.A = tmp2\n",
    "            self.B = tmp1\n",
    "        self.supports = []\n",
    "        self.supportedBy = []\n",
    "\n",
    "    def getXs(self):\n",
    "        return [self.A[0], self.B[0]]\n",
    "\n",
    "    def getYs(self):\n",
    "        return [self.A[1], self.B[1]]\n",
    "\n",
    "    def getZs(self):\n",
    "        return [self.A[2], self.B[2]]\n",
    "    \n",
    "    def setZs(self, lo, hi):\n",
    "        self.A[2] = lo\n",
    "        self.B[2] = hi\n",
    "    \n",
    "    def pprint(self):\n",
    "        print(f\"[{self.id}] {self.A} ~ {self.B}\")\n",
    "\n",
    "    def pprintsups(self):\n",
    "        print(f\"[{self.id}] {self.A} ~ {self.B}\")\n",
    "        print(f\"\\tSupports: {self.supports}\")\n",
    "        print(f\"\\tSupported By: {self.supportedBy}\")\n",
    "\n",
    "    def addSupport(self, otherBrick):\n",
    "        self.supports.append(otherBrick)\n",
    "    \n",
    "    def addSupportedBy(self, otherBrick):\n",
    "        self.supportedBy.append(otherBrick)\n",
    "\n",
    "def p1(input, printErrors=False):\n",
    "    if printErrors:\n",
    "        print(f\"Initially we have {len(input)} bricks\")\n",
    "    grid = ThreeDimGrid(input, printErrors)\n",
    "    return grid.jenga()"
   ]
  },
  {
   "cell_type": "code",
   "execution_count": 3,
   "metadata": {},
   "outputs": [
    {
     "data": {
      "text/plain": [
       "5"
      ]
     },
     "execution_count": 3,
     "metadata": {},
     "output_type": "execute_result"
    }
   ],
   "source": [
    "# expected output: 5\n",
    "p1(TEST)"
   ]
  },
  {
   "cell_type": "code",
   "execution_count": 4,
   "metadata": {},
   "outputs": [
    {
     "data": {
      "text/plain": [
       "454"
      ]
     },
     "execution_count": 4,
     "metadata": {},
     "output_type": "execute_result"
    }
   ],
   "source": [
    "p1(A)\n",
    "# 493 too high"
   ]
  },
  {
   "cell_type": "code",
   "execution_count": 5,
   "metadata": {},
   "outputs": [],
   "source": [
    "# had a really hard time finding a code error so looked at some reddit test cases\n",
    "\n",
    "TESTB = \"\"\"0,0,1~0,1,1\n",
    "1,1,1~1,1,1\n",
    "0,0,2~0,0,2\n",
    "0,1,2~1,1,2\"\"\".strip().split(\"\\n\")\n",
    "\n",
    "TESTC = \"\"\"0,0,1~1,0,1\n",
    "0,1,1~0,1,2\n",
    "0,0,5~0,0,5\n",
    "0,0,4~0,1,4\"\"\".strip().split(\"\\n\")\n",
    "\n",
    "TESTD = \"\"\"0,0,1~0,0,2\n",
    "1,0,1~2,0,1\n",
    "1,0,2~1,0,2\n",
    "0,0,3~1,0,3\"\"\".strip().split(\"\\n\")\n",
    "\n",
    "TESTE = \"\"\"5,1,1~1,1,1\n",
    "1,5,2~1,1,2\"\"\".strip().split(\"\\n\")\n",
    "\n",
    "TESTF = \"\"\"0,0,1~0,0,1\n",
    "1,1,1~1,1,1\n",
    "0,0,2~0,1,2\n",
    "0,1,3~1,1,3\"\"\".strip().split(\"\\n\")\n",
    "\n",
    "TESTG = \"\"\"0,0,2~0,0,4\n",
    "1,0,3~2,0,3\n",
    "1,0,4~1,0,5\n",
    "0,0,6~1,0,6\"\"\".strip().split(\"\\n\")\n"
   ]
  },
  {
   "cell_type": "code",
   "execution_count": 6,
   "metadata": {},
   "outputs": [
    {
     "data": {
      "text/plain": [
       "3"
      ]
     },
     "execution_count": 6,
     "metadata": {},
     "output_type": "execute_result"
    }
   ],
   "source": [
    "# expected output: 3\n",
    "p1(TESTB)"
   ]
  },
  {
   "cell_type": "code",
   "execution_count": 7,
   "metadata": {},
   "outputs": [
    {
     "data": {
      "text/plain": [
       "2"
      ]
     },
     "execution_count": 7,
     "metadata": {},
     "output_type": "execute_result"
    }
   ],
   "source": [
    "# expected output: 2\n",
    "p1(TESTC)"
   ]
  },
  {
   "cell_type": "code",
   "execution_count": 8,
   "metadata": {},
   "outputs": [
    {
     "data": {
      "text/plain": [
       "3"
      ]
     },
     "execution_count": 8,
     "metadata": {},
     "output_type": "execute_result"
    }
   ],
   "source": [
    "# expected value: 3\n",
    "p1(TESTD)"
   ]
  },
  {
   "cell_type": "code",
   "execution_count": 9,
   "metadata": {},
   "outputs": [
    {
     "data": {
      "text/plain": [
       "1"
      ]
     },
     "execution_count": 9,
     "metadata": {},
     "output_type": "execute_result"
    }
   ],
   "source": [
    "# expected value: 1\n",
    "p1(TESTE)"
   ]
  },
  {
   "cell_type": "code",
   "execution_count": 10,
   "metadata": {},
   "outputs": [
    {
     "data": {
      "text/plain": [
       "2"
      ]
     },
     "execution_count": 10,
     "metadata": {},
     "output_type": "execute_result"
    }
   ],
   "source": [
    "# expected value: 2\n",
    "p1(TESTF)"
   ]
  },
  {
   "cell_type": "code",
   "execution_count": 11,
   "metadata": {},
   "outputs": [
    {
     "data": {
      "text/plain": [
       "3"
      ]
     },
     "execution_count": 11,
     "metadata": {},
     "output_type": "execute_result"
    }
   ],
   "source": [
    "# expected value: 3\n",
    "p1(TESTG)"
   ]
  },
  {
   "cell_type": "code",
   "execution_count": null,
   "metadata": {},
   "outputs": [],
   "source": []
  }
 ],
 "metadata": {
  "kernelspec": {
   "display_name": "base",
   "language": "python",
   "name": "python3"
  },
  "language_info": {
   "codemirror_mode": {
    "name": "ipython",
    "version": 3
   },
   "file_extension": ".py",
   "mimetype": "text/x-python",
   "name": "python",
   "nbconvert_exporter": "python",
   "pygments_lexer": "ipython3",
   "version": "3.8.5"
  }
 },
 "nbformat": 4,
 "nbformat_minor": 2
}
