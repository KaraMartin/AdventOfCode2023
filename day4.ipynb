{
 "cells": [
  {
   "cell_type": "code",
   "execution_count": 104,
   "metadata": {},
   "outputs": [],
   "source": [
    "# Advent of Code 2023\n",
    "# Day 4 Problem 1\n",
    "\n",
    "with open(\"aoc_04_input.txt\") as f:\n",
    "    A = f.read().split(\"\\n\")\n"
   ]
  },
  {
   "cell_type": "code",
   "execution_count": 105,
   "metadata": {},
   "outputs": [
    {
     "name": "stdout",
     "output_type": "stream",
     "text": [
      "Card 1: 41 48 83 86 17 | 83 86  6 31 17  9 48 53\n",
      "Card 2: 13 32 20 16 61 | 61 30 68 82 17 32 24 19\n",
      "Card 3:  1 21 53 59 44 | 69 82 63 72 16 21 14  1\n",
      "Card 4: 41 92 73 84 69 | 59 84 76 51 58  5 54 83\n",
      "Card 5: 87 83 26 28 32 | 88 30 70 12 93 22 82 36\n",
      "Card 6: 31 18 13 56 72 | 74 77 10 23 35 67 36 11\n",
      "\n"
     ]
    }
   ],
   "source": [
    "# c+p test case here\n",
    "TEST = \"\"\"Card 1: 41 48 83 86 17 | 83 86  6 31 17  9 48 53\n",
    "Card 2: 13 32 20 16 61 | 61 30 68 82 17 32 24 19\n",
    "Card 3:  1 21 53 59 44 | 69 82 63 72 16 21 14  1\n",
    "Card 4: 41 92 73 84 69 | 59 84 76 51 58  5 54 83\n",
    "Card 5: 87 83 26 28 32 | 88 30 70 12 93 22 82 36\n",
    "Card 6: 31 18 13 56 72 | 74 77 10 23 35 67 36 11\n",
    "\"\"\".split(\"\\n\")\n",
    "\n",
    "for line in TEST:\n",
    "    print(line)\n",
    "\n",
    "# WINNING | YOUR NUMS\n"
   ]
  },
  {
   "cell_type": "code",
   "execution_count": 106,
   "metadata": {},
   "outputs": [],
   "source": [
    "# problem helper functions here\n",
    "\n",
    "def parse(inp):\n",
    "    # num, winners, your nums\n",
    "    X = []\n",
    "    for line in inp[:-1]:\n",
    "        line = line.replace(\"  \", \" \")\n",
    "        line = line.replace(\"  \", \" \")\n",
    "        #print(line)\n",
    "        a, b = line.split(\": \")\n",
    "        c, d = b.split(\" | \")\n",
    "        #print(a)\n",
    "        num = int(a.split(\" \")[1])\n",
    "        win = [int(n) for n in c.split(\" \")]\n",
    "        cand = [int(n) for n in d.split(\" \")]\n",
    "        X.append([num,win,cand])\n",
    "    return X\n",
    "\n",
    "def p1(lines):\n",
    "    s = 0\n",
    "    nums = parse(lines)\n",
    "    for n,wins,cands in nums:\n",
    "        res = 0\n",
    "        for c in cands:\n",
    "            if c in wins:\n",
    "                res = res*2 if res else 1\n",
    "        s += res\n",
    "    return s\n",
    "\n"
   ]
  },
  {
   "cell_type": "code",
   "execution_count": 107,
   "metadata": {},
   "outputs": [
    {
     "name": "stdout",
     "output_type": "stream",
     "text": [
      "13\n"
     ]
    }
   ],
   "source": [
    "print(p1(TEST))\n"
   ]
  },
  {
   "cell_type": "code",
   "execution_count": 108,
   "metadata": {},
   "outputs": [
    {
     "name": "stdout",
     "output_type": "stream",
     "text": [
      "20117\n"
     ]
    }
   ],
   "source": [
    "# part one \n",
    "print(p1(A))\n"
   ]
  },
  {
   "cell_type": "code",
   "execution_count": 116,
   "metadata": {},
   "outputs": [],
   "source": [
    "#p2\n",
    "\n",
    "def p2(lines):\n",
    "    s = 0\n",
    "    nums = parse(lines)\n",
    "    for idx,num in enumerate(nums): \n",
    "        nums[idx].append(1)\n",
    "    \n",
    "    s = 0\n",
    "    for n, wins, cands, count in nums:\n",
    "        #print(n,wins,cands,count, \"\\t\", s)\n",
    "        W = sum([c in wins for c in cands])\n",
    "\n",
    "        if W:\n",
    "            for i in range(1, W+1):\n",
    "                nums[n-1+i][3] += count\n",
    "        s += count\n",
    "\n",
    "    return s\n"
   ]
  },
  {
   "cell_type": "code",
   "execution_count": 117,
   "metadata": {},
   "outputs": [
    {
     "name": "stdout",
     "output_type": "stream",
     "text": [
      "30\n"
     ]
    }
   ],
   "source": [
    "print(p2(TEST))\n"
   ]
  },
  {
   "cell_type": "code",
   "execution_count": 118,
   "metadata": {},
   "outputs": [
    {
     "name": "stdout",
     "output_type": "stream",
     "text": [
      "13768818\n"
     ]
    }
   ],
   "source": [
    "print(p2(A))\n"
   ]
  },
  {
   "cell_type": "code",
   "execution_count": null,
   "metadata": {},
   "outputs": [],
   "source": [
    "# done by 12:30am :)\n"
   ]
  }
 ],
 "metadata": {
  "kernelspec": {
   "display_name": "Python 3",
   "language": "python",
   "name": "python3"
  },
  "language_info": {
   "codemirror_mode": {
    "name": "ipython",
    "version": 3
   },
   "file_extension": ".py",
   "mimetype": "text/x-python",
   "name": "python",
   "nbconvert_exporter": "python",
   "pygments_lexer": "ipython3",
   "version": "3.11.0"
  }
 },
 "nbformat": 4,
 "nbformat_minor": 2
}
