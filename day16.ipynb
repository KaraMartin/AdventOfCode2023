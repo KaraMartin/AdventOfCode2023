{
 "cells": [
  {
   "cell_type": "code",
   "execution_count": 92,
   "metadata": {},
   "outputs": [
    {
     "name": "stdout",
     "output_type": "stream",
     "text": [
      "   0123456789\n",
      "0: .|...\\....\n",
      "1: |.-.\\.....\n",
      "2: .....|-...\n",
      "3: ........|.\n",
      "4: ..........\n",
      "5: .........\\\n",
      "6: ..../.\\\\..\n",
      "7: .-.-/..|..\n",
      "8: .|....-|.\\\n",
      "9: ..//.|....\n"
     ]
    }
   ],
   "source": [
    "# Advent of Code 2023\n",
    "# Day 16 Problem 1\n",
    "import re\n",
    "from collections import Counter\n",
    "import functools\n",
    "\n",
    "with open(\"aoc_16_input.txt\") as f:\n",
    "    A = f.read().strip().split(\"\\n\")\n",
    "#.replace(\"\\\\\", \"\\\\\\\\\")\n",
    "\n",
    "# c+p test case here\n",
    "TEST = \"\"\".|...\\....\n",
    "|.-.\\.....\n",
    ".....|-...\n",
    "........|.\n",
    "..........\n",
    ".........\\\\\n",
    "..../.\\\\\\\\..\n",
    ".-.-/..|..\n",
    ".|....-|.\\\\\n",
    "..//.|....\"\"\".strip().split(\"\\n\")\n",
    "\n",
    "print(\"  \",\"\".join(str(i) for i in range(10)))\n",
    "for i, line in enumerate(TEST):\n",
    "    print(f\"{i}: {line}\")"
   ]
  },
  {
   "cell_type": "code",
   "execution_count": 93,
   "metadata": {},
   "outputs": [],
   "source": [
    "from collections import defaultdict\n",
    "def p1(M):\n",
    "    # we need a hashmap of coords and directions\n",
    "    # 0 up, 1 right, 2 down, 3 left\n",
    "    W = len(M[0])\n",
    "    H = len(M)\n",
    "    seen = {(0,0,0): True}\n",
    "    active = [(0,0,1)]\n",
    "    charged = {(0,0)}\n",
    "    while active:\n",
    "        curr = active.pop()\n",
    "        #print(seen)\n",
    "        if curr in seen:\n",
    "            continue\n",
    "        seen[curr] = True\n",
    "        bx, by, d = curr\n",
    "        charged.add((bx,by))\n",
    "        # UP\n",
    "        if d == 0:\n",
    "            if M[bx][by] in \".|\" and bx - 1 >= 0:        active.append((bx-1,by,0))\n",
    "            elif M[bx][by] == \"/\" and by + 1 < W:       active.append((bx, by + 1, 1))\n",
    "            elif M[bx][by] == \"\\\\\" and by - 1 >= 0:     active.append((bx,by-1,3))\n",
    "            elif M[bx][by] == \"-\":\n",
    "                if by - 1 >= 0:                         active.append((bx,by-1,3))\n",
    "                if by + 1 < W:                          active.append((bx,by+1,1))\n",
    "        # DOWN\n",
    "        elif d == 2:\n",
    "            if M[bx][by] in \".|\" and bx + 1 < H:        active.append((bx+1,by,2))\n",
    "            elif M[bx][by] == \"/\" and by - 1 >= 0:       active.append((bx, by - 1, 3))\n",
    "            elif M[bx][by] == \"\\\\\" and by + 1 < W:     active.append((bx,by+1,1))\n",
    "            elif M[bx][by] == \"-\":\n",
    "                if by - 1 >= 0:                         active.append((bx,by-1,3))\n",
    "                if by + 1 < W:                          active.append((bx,by+1,1))\n",
    "        # RIGHT\n",
    "        elif d == 1:\n",
    "            if M[bx][by] in \".-\" and by + 1 < W:        active.append((bx,by+1,1))\n",
    "            elif M[bx][by] == \"/\" and bx - 1 >= 0:       active.append((bx-1, by, 0))\n",
    "            elif M[bx][by] == \"\\\\\" and bx + 1 < H:     active.append((bx+1,by,2))\n",
    "            elif M[bx][by] == \"|\":\n",
    "                if bx - 1 >= 0:                         active.append((bx-1,by,0))\n",
    "                if bx + 1 < H:                          active.append((bx+1,by,2))\n",
    "        # LEFT\n",
    "        elif d == 3:\n",
    "            if M[bx][by] in \".-\" and by - 1 >= 0:        active.append((bx,by-1,3))\n",
    "            elif M[bx][by] == \"/\" and bx +1 < H:       active.append((bx+1, by, 2))\n",
    "            elif M[bx][by] == \"\\\\\" and bx -1 >= 0:     active.append((bx-1,by,0))\n",
    "            elif M[bx][by] == \"|\":\n",
    "                if bx - 1 >= 0:                         active.append((bx-1,by,0))\n",
    "                if bx + 1 < H:                          active.append((bx+1,by,2))\n",
    "    return(charged)\n",
    "\n",
    "def wrap(inp):\n",
    "    charged_cells = p1(inp)\n",
    "    # for i, row in enumerate(inp):\n",
    "    #     for j, c in enumerate(row):\n",
    "    #         print(f\"{'#' if (i,j) in charged_cells else '.'}\", end=\"\")\n",
    "    #     print()\n",
    "    print(sum([1 if (i,j) in charged_cells else 0 for i in range(len(inp)) for j in range(len(inp[0]))]))\n",
    "    #print(sorted(charged_cells))\n"
   ]
  },
  {
   "cell_type": "code",
   "execution_count": 94,
   "metadata": {},
   "outputs": [
    {
     "name": "stdout",
     "output_type": "stream",
     "text": [
      "46\n"
     ]
    }
   ],
   "source": [
    "wrap(TEST)"
   ]
  },
  {
   "cell_type": "code",
   "execution_count": 95,
   "metadata": {},
   "outputs": [
    {
     "name": "stdout",
     "output_type": "stream",
     "text": [
      "6978\n"
     ]
    }
   ],
   "source": [
    "wrap(A)"
   ]
  },
  {
   "cell_type": "code",
   "execution_count": 96,
   "metadata": {},
   "outputs": [],
   "source": [
    "def p2(M, xx, yy, d):\n",
    "    # we need a hashmap of coords and directions\n",
    "    # 0 up, 1 right, 2 down, 3 left\n",
    "    W = len(M[0])\n",
    "    H = len(M)\n",
    "    seen = {(-1,-1,-1):True}\n",
    "    active = [(xx,yy,d)]\n",
    "    charged = set()\n",
    "    while active:\n",
    "        curr = active.pop()\n",
    "        #print(seen)\n",
    "        if curr in seen:\n",
    "            continue\n",
    "        seen[curr] = True\n",
    "        bx, by, d = curr\n",
    "        charged.add((bx,by))\n",
    "        # UP\n",
    "        if d == 0:\n",
    "            if M[bx][by] in \".|\" and bx - 1 >= 0:        active.append((bx-1,by,0))\n",
    "            elif M[bx][by] == \"/\" and by + 1 < W:       active.append((bx, by + 1, 1))\n",
    "            elif M[bx][by] == \"\\\\\" and by - 1 >= 0:     active.append((bx,by-1,3))\n",
    "            elif M[bx][by] == \"-\":\n",
    "                if by - 1 >= 0:                         active.append((bx,by-1,3))\n",
    "                if by + 1 < W:                          active.append((bx,by+1,1))\n",
    "        # DOWN\n",
    "        elif d == 2:\n",
    "            if M[bx][by] in \".|\" and bx + 1 < H:        active.append((bx+1,by,2))\n",
    "            elif M[bx][by] == \"/\" and by - 1 >= 0:       active.append((bx, by - 1, 3))\n",
    "            elif M[bx][by] == \"\\\\\" and by + 1 < W:     active.append((bx,by+1,1))\n",
    "            elif M[bx][by] == \"-\":\n",
    "                if by - 1 >= 0:                         active.append((bx,by-1,3))\n",
    "                if by + 1 < W:                          active.append((bx,by+1,1))\n",
    "        # RIGHT\n",
    "        elif d == 1:\n",
    "            if M[bx][by] in \".-\" and by + 1 < W:        active.append((bx,by+1,1))\n",
    "            elif M[bx][by] == \"/\" and bx - 1 >= 0:       active.append((bx-1, by, 0))\n",
    "            elif M[bx][by] == \"\\\\\" and bx + 1 < H:     active.append((bx+1,by,2))\n",
    "            elif M[bx][by] == \"|\":\n",
    "                if bx - 1 >= 0:                         active.append((bx-1,by,0))\n",
    "                if bx + 1 < H:                          active.append((bx+1,by,2))\n",
    "        # LEFT\n",
    "        elif d == 3:\n",
    "            if M[bx][by] in \".-\" and by - 1 >= 0:        active.append((bx,by-1,3))\n",
    "            elif M[bx][by] == \"/\" and bx +1 < H:       active.append((bx+1, by, 2))\n",
    "            elif M[bx][by] == \"\\\\\" and bx -1 >= 0:     active.append((bx-1,by,0))\n",
    "            elif M[bx][by] == \"|\":\n",
    "                if bx - 1 >= 0:                         active.append((bx-1,by,0))\n",
    "                if bx + 1 < H:                          active.append((bx+1,by,2))\n",
    "    return(len(charged))\n",
    "\n",
    "def p2wrap(inp):\n",
    "    best = 0\n",
    "    H, W = len(inp), len(inp[0])\n",
    "    for y in range(H):\n",
    "        best = max(best, p2(inp, 0, y, 2), p2(inp, H-1, y, 0))\n",
    "    for x in range(W):\n",
    "        best = max(best, p2(inp, x, 0, 1), p2(inp, x, W-1, 3))\n",
    "    print(best)"
   ]
  },
  {
   "cell_type": "code",
   "execution_count": 97,
   "metadata": {},
   "outputs": [
    {
     "name": "stdout",
     "output_type": "stream",
     "text": [
      "51\n"
     ]
    }
   ],
   "source": [
    "p2wrap(TEST)"
   ]
  },
  {
   "cell_type": "code",
   "execution_count": 98,
   "metadata": {},
   "outputs": [
    {
     "name": "stdout",
     "output_type": "stream",
     "text": [
      "7315\n"
     ]
    }
   ],
   "source": [
    "p2wrap(A)"
   ]
  },
  {
   "cell_type": "code",
   "execution_count": null,
   "metadata": {},
   "outputs": [],
   "source": []
  }
 ],
 "metadata": {
  "kernelspec": {
   "display_name": "base",
   "language": "python",
   "name": "python3"
  },
  "language_info": {
   "codemirror_mode": {
    "name": "ipython",
    "version": 3
   },
   "file_extension": ".py",
   "mimetype": "text/x-python",
   "name": "python",
   "nbconvert_exporter": "python",
   "pygments_lexer": "ipython3",
   "version": "3.8.5"
  }
 },
 "nbformat": 4,
 "nbformat_minor": 2
}
