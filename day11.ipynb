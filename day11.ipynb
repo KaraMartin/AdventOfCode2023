{
 "cells": [
  {
   "cell_type": "code",
   "execution_count": 1,
   "metadata": {},
   "outputs": [
    {
     "name": "stdout",
     "output_type": "stream",
     "text": [
      "   0123456789\n",
      "0: ...#......\n",
      "1: .......#..\n",
      "2: #.........\n",
      "3: ..........\n",
      "4: ......#...\n",
      "5: .#........\n",
      "6: .........#\n",
      "7: ..........\n",
      "8: .......#..\n",
      "9: #...#.....\n"
     ]
    }
   ],
   "source": [
    "# Advent of Code 2023\n",
    "# Day 11 Problem 1\n",
    "import re\n",
    "from collections import Counter\n",
    "import functools\n",
    "\n",
    "with open(\"aoc_11_input.txt\") as f:\n",
    "    A = f.read().strip().split(\"\\n\")\n",
    "\n",
    "# c+p test case here\n",
    "TEST = \"\"\"...#......\n",
    ".......#..\n",
    "#.........\n",
    "..........\n",
    "......#...\n",
    ".#........\n",
    ".........#\n",
    "..........\n",
    ".......#..\n",
    "#...#.....\"\"\".strip().split(\"\\n\")\n",
    "\n",
    "print(\"  \",\"\".join(str(i) for i in range(10)))\n",
    "for i, line in enumerate(TEST):\n",
    "    print(f\"{i}: {line}\")"
   ]
  },
  {
   "cell_type": "code",
   "execution_count": 2,
   "metadata": {},
   "outputs": [],
   "source": [
    "def findEmptySpaceAndGalaxies(universe):\n",
    "    R, C, G = [], [], []\n",
    "    for i, row in enumerate(universe):\n",
    "        if \"#\" not in row:\n",
    "            R.append(i)\n",
    "        else:\n",
    "            G.extend([(i, j) for j, c in enumerate(row) if c == \"#\"])\n",
    "\n",
    "    rotated = list(zip(*universe[::-1]))\n",
    "    for i, col in enumerate(rotated):\n",
    "        if \"#\" not in col:\n",
    "            C.append(i)\n",
    "    return R, C, G\n",
    "\n",
    "def yieldShortestPath(A, B, eR, eC):\n",
    "    # A, B: galaxies [tuples] of the form (x,y)\n",
    "    # eR, eC: empty rows, columns [lists]\n",
    "    minX, maxX = min(A[0], B[0]), max(A[0], B[0])\n",
    "    minY, maxY = min(A[1], B[1]), max(A[1], B[1])\n",
    "    basic = (maxX - minX) + (maxY - minY)\n",
    "    r = sum([1 if minX < row < maxX else 0 for row in eR])\n",
    "    c = sum([1 if minY < col < maxY else 0 for col in eC])\n",
    "    return basic + r + c\n",
    "\n",
    "def p1(inp):\n",
    "    rows, cols, galaxies = findEmptySpaceAndGalaxies(inp)\n",
    "    #print(f\"Empty rows: {rows}\")\n",
    "    #print(f\"Empty cols: {cols}\")\n",
    "    #print(f\"Galaxies at: \")\n",
    "    #for G in galaxies:\n",
    "    #    print(f\"  {G}\")\n",
    "    res = 0\n",
    "    for i, G in enumerate(galaxies):\n",
    "        for j, H in enumerate(galaxies[i+1:]):\n",
    "            res += yieldShortestPath(G, H, rows, cols)\n",
    "    return res"
   ]
  },
  {
   "cell_type": "code",
   "execution_count": 3,
   "metadata": {},
   "outputs": [
    {
     "data": {
      "text/plain": [
       "374"
      ]
     },
     "execution_count": 3,
     "metadata": {},
     "output_type": "execute_result"
    }
   ],
   "source": [
    "# expected output: 374\n",
    "p1(TEST)"
   ]
  },
  {
   "cell_type": "code",
   "execution_count": 4,
   "metadata": {},
   "outputs": [
    {
     "data": {
      "text/plain": [
       "9742154"
      ]
     },
     "execution_count": 4,
     "metadata": {},
     "output_type": "execute_result"
    }
   ],
   "source": [
    "p1(A)"
   ]
  },
  {
   "cell_type": "code",
   "execution_count": 5,
   "metadata": {},
   "outputs": [],
   "source": [
    "def yieldShortestPathP2(A, B, eR, eC, modifier):\n",
    "    # A, B: galaxies [tuples] of the form (x,y)\n",
    "    # eR, eC: empty rows, columns [lists]\n",
    "    minX, maxX = min(A[0], B[0]), max(A[0], B[0])\n",
    "    minY, maxY = min(A[1], B[1]), max(A[1], B[1])\n",
    "    basic = (maxX - minX) + (maxY - minY)\n",
    "    # \"each empty row should be replaced with 1000000 empty rows\"\n",
    "    # This stumped me for a bit - we're not inserting 1_000_000 more rows,\n",
    "    # we're replacing 1 with 1_000_000, which is a net +999_999\n",
    "    M = modifier - 1\n",
    "    r = sum([M if minX < row < maxX else 0 for row in eR])\n",
    "    c = sum([M if minY < col < maxY else 0 for col in eC])\n",
    "    return basic + r + c\n",
    "\n",
    "def p2(inp, replacement):\n",
    "    rows, cols, galaxies = findEmptySpaceAndGalaxies(inp)\n",
    "    res = 0\n",
    "    for i, G in enumerate(galaxies):\n",
    "        for j, H in enumerate(galaxies[i+1:]):\n",
    "            res += yieldShortestPathP2(G, H, rows, cols, replacement)\n",
    "    return res"
   ]
  },
  {
   "cell_type": "code",
   "execution_count": 6,
   "metadata": {},
   "outputs": [
    {
     "name": "stdout",
     "output_type": "stream",
     "text": [
      "TEST with 10:  1030\n",
      "TEST with 100: 8410\n"
     ]
    }
   ],
   "source": [
    "# expected output: 1030\n",
    "print(f\"TEST with 10:  {p2(TEST, 10)}\")\n",
    "# expected output: 8410\n",
    "print(f\"TEST with 100: {p2(TEST, 100)}\")\n"
   ]
  },
  {
   "cell_type": "code",
   "execution_count": 7,
   "metadata": {},
   "outputs": [
    {
     "data": {
      "text/plain": [
       "411142919886"
      ]
     },
     "execution_count": 7,
     "metadata": {},
     "output_type": "execute_result"
    }
   ],
   "source": [
    "p2(A, 1_000_000)"
   ]
  },
  {
   "cell_type": "code",
   "execution_count": null,
   "metadata": {},
   "outputs": [],
   "source": []
  }
 ],
 "metadata": {
  "kernelspec": {
   "display_name": "base",
   "language": "python",
   "name": "python3"
  },
  "language_info": {
   "codemirror_mode": {
    "name": "ipython",
    "version": 3
   },
   "file_extension": ".py",
   "mimetype": "text/x-python",
   "name": "python",
   "nbconvert_exporter": "python",
   "pygments_lexer": "ipython3",
   "version": "3.8.5"
  }
 },
 "nbformat": 4,
 "nbformat_minor": 2
}
