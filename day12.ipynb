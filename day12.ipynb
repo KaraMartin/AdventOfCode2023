{
 "cells": [
  {
   "cell_type": "code",
   "execution_count": 338,
   "metadata": {},
   "outputs": [
    {
     "name": "stdout",
     "output_type": "stream",
     "text": [
      "   0123456789\n",
      "0: ???.### 1,1,3\n",
      "1: .??..??...?##. 1,1,3\n",
      "2: ?#?#?#?#?#?#?#? 1,3,1,6\n",
      "3: ????.#...#... 4,1,1\n",
      "4: ????.######..#####. 1,6,5\n",
      "5: ?###???????? 3,2,1\n"
     ]
    }
   ],
   "source": [
    "# Advent of Code 2023\n",
    "# Day 12 Problem 1\n",
    "import re\n",
    "from collections import Counter\n",
    "import functools\n",
    "\n",
    "with open(\"aoc_12_input.txt\") as f:\n",
    "    A = f.read().strip().split(\"\\n\")\n",
    "\n",
    "# c+p test case here\n",
    "TEST = \"\"\"???.### 1,1,3\n",
    ".??..??...?##. 1,1,3\n",
    "?#?#?#?#?#?#?#? 1,3,1,6\n",
    "????.#...#... 4,1,1\n",
    "????.######..#####. 1,6,5\n",
    "?###???????? 3,2,1\"\"\".strip().split(\"\\n\")\n",
    "\n",
    "print(\"  \",\"\".join(str(i) for i in range(10)))\n",
    "for i, line in enumerate(TEST):\n",
    "    print(f\"{i}: {line}\")"
   ]
  },
  {
   "cell_type": "code",
   "execution_count": 339,
   "metadata": {},
   "outputs": [],
   "source": [
    "from functools import lru_cache\n",
    "\n",
    "def parseInput(inp):\n",
    "    springs, contig = [], []\n",
    "    for row in inp:\n",
    "        springs.append(re.sub(r\"(\\.){2,}\", \".\", row.split(\" \")[0].strip(\".\")))\n",
    "        contig.append(tuple(int(x) for x in row.split(\" \")[1].split(\",\")))\n",
    "    return springs, contig\n",
    "\n",
    "@lru_cache\n",
    "def logic(springs, record):\n",
    "    # given an array of springs and records, return how many possible arrangements there are\n",
    "    if not record:\n",
    "        if not springs:\n",
    "            return 1\n",
    "        if \"#\" not in springs:\n",
    "            return 1\n",
    "        return 0\n",
    "    if not springs:\n",
    "        return 0\n",
    "    if springs[0] == \".\":\n",
    "        springs = springs.strip(\".\")\n",
    "        return logic(springs, record)\n",
    "    if springs[0] == \"?\":\n",
    "        X = logic(springs[1:], record)\n",
    "        Y = logic(\"#\" + springs[1:], record)\n",
    "        return X + Y\n",
    "    if springs[0] == \"#\":\n",
    "        R = record[0]\n",
    "        S = len(springs)\n",
    "        # first R chars could be a match...\n",
    "        if R <= S and \".\" not in springs[:R]:\n",
    "            # if next char is not a #\n",
    "            if S == R:\n",
    "                return logic(\"\", record[1:])\n",
    "            if springs[R] == \"#\":\n",
    "                return 0\n",
    "            return logic(springs[R+1:], record[1:])\n",
    "        return 0\n",
    "\n",
    "def p1(inp):\n",
    "    S, C = parseInput(inp)\n",
    "    res = 0\n",
    "    for i,spring in enumerate(S):\n",
    "        tmp = logic(spring, C[i])\n",
    "        res += tmp\n",
    "    return res\n",
    "\n"
   ]
  },
  {
   "cell_type": "code",
   "execution_count": 340,
   "metadata": {},
   "outputs": [
    {
     "data": {
      "text/plain": [
       "21"
      ]
     },
     "execution_count": 340,
     "metadata": {},
     "output_type": "execute_result"
    }
   ],
   "source": [
    "p1(TEST)"
   ]
  },
  {
   "cell_type": "code",
   "execution_count": 341,
   "metadata": {},
   "outputs": [
    {
     "data": {
      "text/plain": [
       "7916"
      ]
     },
     "execution_count": 341,
     "metadata": {},
     "output_type": "execute_result"
    }
   ],
   "source": [
    "p1(A)"
   ]
  },
  {
   "cell_type": "code",
   "execution_count": 342,
   "metadata": {},
   "outputs": [],
   "source": [
    "def parseInputP2(inp):\n",
    "    springs, contig = [], []\n",
    "    for row in inp:\n",
    "        S = re.sub(r\"(\\.){2,}\", \".\", row.split(\" \")[0])\n",
    "        springs.append(S + \"?\" + S + \"?\" + S + \"?\" + S + \"?\" + S)\n",
    "        C = [int(x) for x in row.split(\" \")[1].split(\",\")]\n",
    "        contig.append(tuple(C*5))\n",
    "    return springs, contig"
   ]
  },
  {
   "cell_type": "code",
   "execution_count": 343,
   "metadata": {},
   "outputs": [],
   "source": [
    "def p2(inp):\n",
    "    S, C = parseInputP2(inp)\n",
    "    res = 0\n",
    "    for i,spring in enumerate(S):\n",
    "        res += logic(spring, C[i])\n",
    "    return res"
   ]
  },
  {
   "cell_type": "code",
   "execution_count": 344,
   "metadata": {},
   "outputs": [
    {
     "data": {
      "text/plain": [
       "525152"
      ]
     },
     "execution_count": 344,
     "metadata": {},
     "output_type": "execute_result"
    }
   ],
   "source": [
    "p2(TEST)"
   ]
  },
  {
   "cell_type": "code",
   "execution_count": 345,
   "metadata": {},
   "outputs": [
    {
     "data": {
      "text/plain": [
       "37366887898686"
      ]
     },
     "execution_count": 345,
     "metadata": {},
     "output_type": "execute_result"
    }
   ],
   "source": [
    "p2(A)"
   ]
  },
  {
   "cell_type": "code",
   "execution_count": null,
   "metadata": {},
   "outputs": [],
   "source": []
  }
 ],
 "metadata": {
  "kernelspec": {
   "display_name": "base",
   "language": "python",
   "name": "python3"
  },
  "language_info": {
   "codemirror_mode": {
    "name": "ipython",
    "version": 3
   },
   "file_extension": ".py",
   "mimetype": "text/x-python",
   "name": "python",
   "nbconvert_exporter": "python",
   "pygments_lexer": "ipython3",
   "version": "3.8.5"
  }
 },
 "nbformat": 4,
 "nbformat_minor": 2
}
