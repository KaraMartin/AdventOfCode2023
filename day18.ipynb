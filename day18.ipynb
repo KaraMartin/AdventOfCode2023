{
 "cells": [
  {
   "cell_type": "code",
   "execution_count": 1,
   "metadata": {},
   "outputs": [
    {
     "name": "stdout",
     "output_type": "stream",
     "text": [
      "0:\tR 6 (#70c710)\n",
      "1:\tD 5 (#0dc571)\n",
      "2:\tL 2 (#5713f0)\n",
      "3:\tD 2 (#d2c081)\n",
      "4:\tR 2 (#59c680)\n",
      "5:\tD 2 (#411b91)\n",
      "6:\tL 5 (#8ceee2)\n",
      "7:\tU 2 (#caa173)\n",
      "8:\tL 1 (#1b58a2)\n",
      "9:\tU 2 (#caa171)\n",
      "10:\tR 2 (#7807d2)\n",
      "11:\tU 3 (#a77fa3)\n",
      "12:\tL 2 (#015232)\n",
      "13:\tU 2 (#7a21e3)\n"
     ]
    }
   ],
   "source": [
    "# Advent of Code 2023\n",
    "# Day 18 Problem 1\n",
    "import re\n",
    "from collections import Counter\n",
    "import functools\n",
    "\n",
    "with open(\"aoc_18_input.txt\") as f:\n",
    "    A = f.read().strip().split(\"\\n\")\n",
    "\n",
    "# c+p test case here\n",
    "TEST = \"\"\"R 6 (#70c710)\n",
    "D 5 (#0dc571)\n",
    "L 2 (#5713f0)\n",
    "D 2 (#d2c081)\n",
    "R 2 (#59c680)\n",
    "D 2 (#411b91)\n",
    "L 5 (#8ceee2)\n",
    "U 2 (#caa173)\n",
    "L 1 (#1b58a2)\n",
    "U 2 (#caa171)\n",
    "R 2 (#7807d2)\n",
    "U 3 (#a77fa3)\n",
    "L 2 (#015232)\n",
    "U 2 (#7a21e3)\"\"\".strip().split(\"\\n\")\n",
    "\n",
    "for i, line in enumerate(TEST):\n",
    "    print(f\"{i}:\\t{line}\")"
   ]
  },
  {
   "cell_type": "code",
   "execution_count": 2,
   "metadata": {},
   "outputs": [],
   "source": [
    "def parse(inp):\n",
    "    res = []\n",
    "    for row in inp:\n",
    "        a,b,c = row.split(\" \")\n",
    "        res.append([a, int(b)])\n",
    "    x, y = 0, 0\n",
    "    minx, maxx, miny, maxy = 999_999_999, 0, 999_999_999, 0\n",
    "    for dir, quant in res:\n",
    "        if dir == \"R\":\n",
    "            y += quant\n",
    "        elif dir == \"L\":\n",
    "            y -= quant\n",
    "        elif dir == \"U\":\n",
    "            x -= quant\n",
    "        elif dir == \"D\":\n",
    "            x += quant\n",
    "\n",
    "        miny = min(miny, y)\n",
    "        maxy = max(maxy, y)\n",
    "        minx = min(minx, x)\n",
    "        maxx = max(maxx, x)\n",
    "    return res, (minx, maxx, miny, maxy)\n",
    "\n",
    "def printMap(M):\n",
    "    for row in M:\n",
    "        print(\"\".join(row))\n",
    "    print()\n",
    "\n",
    "# core of this is from day10 part2\n",
    "def floodOutside(tap, start):\n",
    "    queue = [[start[0],start[1]]]\n",
    "    H, W = len(tap)-1, len(tap[0])-1\n",
    "    while queue:\n",
    "        nx,ny = queue.pop()\n",
    "        tap[nx] = tap[nx][:ny] + [\" \"] + tap[nx][ny+1:]\n",
    "        if nx > 0 and tap[nx-1][ny] == \".\":     queue.append([nx-1,ny])\n",
    "        if ny > 0 and tap[nx][ny-1] == \".\":     queue.append([nx,ny-1])\n",
    "        if nx < H and tap[nx+1][ny] == \".\":     queue.append([nx+1,ny])\n",
    "        if ny < W and tap[nx][ny+1] == \".\":     queue.append([nx,ny+1])\n",
    "    return tap\n",
    "    \n",
    "def buildMap(directions, height, width, start):\n",
    "    M = [[\".\" for _ in range(width)] for _ in range(height)]\n",
    "    currX, currY = start\n",
    "    M[currX][currY] = \"#\"\n",
    "    dd = {\n",
    "        \"R\": (0,1), \n",
    "        \"L\": (0,-1),\n",
    "        \"U\": (-1,0),\n",
    "        \"D\": (1,0)\n",
    "        }\n",
    "    \n",
    "    for dir, length in directions:\n",
    "        dx, dy = dd[dir]\n",
    "        for _ in range(length):\n",
    "            currX += dx\n",
    "            currY += dy\n",
    "            M[currX][currY] = \"#\"\n",
    "    # printMap(M)\n",
    "    return M\n",
    "\n",
    "def countInside(M):\n",
    "    res = 0\n",
    "    for row in M:\n",
    "        res += row.count(\".\")\n",
    "        res += row.count(\"#\")\n",
    "    return res\n",
    "\n",
    "def p1(inp):\n",
    "    inst, dims = parse(inp)\n",
    "    (minx, maxx, miny, maxy) = dims\n",
    "    maxWidth = maxy - miny + 3\n",
    "    maxHeight = maxx - minx + 3\n",
    "    # print(f\"X: {minx} - {maxx}, so height of {maxHeight}\")\n",
    "    # print(f\"Y: {miny} - {maxy}, so width of {maxWidth}\")\n",
    "    start = (abs(minx)+1, abs(miny)+1)\n",
    "    mapWithBorder = buildMap(inst, maxHeight, maxWidth, start)\n",
    "    emptyOutside = floodOutside(mapWithBorder, (0,0))\n",
    "    # printMap(emptyOutside)\n",
    "    return countInside(emptyOutside)\n",
    "    "
   ]
  },
  {
   "cell_type": "code",
   "execution_count": 3,
   "metadata": {},
   "outputs": [
    {
     "data": {
      "text/plain": [
       "62"
      ]
     },
     "execution_count": 3,
     "metadata": {},
     "output_type": "execute_result"
    }
   ],
   "source": [
    "# expected output: 62\n",
    "p1(TEST)"
   ]
  },
  {
   "cell_type": "code",
   "execution_count": 4,
   "metadata": {},
   "outputs": [
    {
     "data": {
      "text/plain": [
       "46334"
      ]
     },
     "execution_count": 4,
     "metadata": {},
     "output_type": "execute_result"
    }
   ],
   "source": [
    "p1(A)"
   ]
  },
  {
   "cell_type": "code",
   "execution_count": 5,
   "metadata": {},
   "outputs": [],
   "source": [
    "def parseP2(inp):\n",
    "    res = []\n",
    "    dir = {\n",
    "        \"0\": \"R\", \n",
    "        \"1\": \"D\", \n",
    "        \"2\": \"L\", \n",
    "        \"3\": \"U\"\n",
    "    }\n",
    "    for row in inp:\n",
    "        a,b,c = row.split(\" \")\n",
    "        hexcode = c[2:-1]\n",
    "        inst = dir[hexcode[-1]]\n",
    "        quant = int(hexcode[:-1], 16)\n",
    "        res.append([inst, quant])\n",
    "    x, y = 0, 0\n",
    "    minx, maxx, miny, maxy = 999_999_999, 0, 999_999_999, 0\n",
    "    for dir, quant in res:\n",
    "        if dir == \"R\":\n",
    "            y += quant\n",
    "        elif dir == \"L\":\n",
    "            y -= quant\n",
    "        elif dir == \"U\":\n",
    "            x -= quant\n",
    "        elif dir == \"D\":\n",
    "            x += quant\n",
    "\n",
    "        miny = min(miny, y)\n",
    "        maxy = max(maxy, y)\n",
    "        minx = min(minx, x)\n",
    "        maxx = max(maxx, x)\n",
    "    return res, (minx, maxx, miny, maxy)\n",
    "\n",
    "def p2(inp):\n",
    "    # let's try a naive approach I guess?\n",
    "    inst, dims = parseP2(inp)\n",
    "    (minx, maxx, miny, maxy) = dims\n",
    "    maxWidth = maxy - miny + 3\n",
    "    maxHeight = maxx - minx + 3\n",
    "    print(f\"X: {minx} - {maxx}, so height of {maxHeight}\")\n",
    "    print(f\"Y: {miny} - {maxy}, so width of {maxWidth}\")\n",
    "    start = (abs(minx)+1, abs(miny)+1)\n",
    "    mapWithBorder = buildMap(inst, maxHeight, maxWidth, start)\n",
    "    print(f\"Done with buildMap()\")\n",
    "    emptyOutside = floodOutside(mapWithBorder, (0,0))\n",
    "    # printMap(emptyOutside)\n",
    "    return countInside(emptyOutside)"
   ]
  },
  {
   "cell_type": "code",
   "execution_count": 6,
   "metadata": {},
   "outputs": [],
   "source": [
    "# expected output: 952408144115\n",
    "# this currently doesn't halt in a minute\n",
    "#p2(TEST)"
   ]
  },
  {
   "cell_type": "code",
   "execution_count": 7,
   "metadata": {},
   "outputs": [],
   "source": [
    "%%capture\n",
    "\"\"\"\n",
    "\n",
    "This is the first day where I had to look up a completely different approach. So I'm reading about the Shoelace formula and Pick's Theorem and learning about those.\n",
    "\n",
    "PICK'S THEOREM:\n",
    "---------------\n",
    "Suppose that a polygon has integer coordinates for all of its vertices.\n",
    "Let i be the number of integer points interior to the polygon, and \n",
    "let b be the number of integer points on its boundary (including both vertices and points along the sides). \n",
    "Then the area A of this polygon is:\n",
    "\n",
    "    A = i + b/2 - 1 \n",
    "\n",
    "SHOELACE FORMULA\n",
    "----------------\n",
    "\n",
    "        | x_1 x_2 x_3       x_n x_1 |   | x_1 x_2 |   | x_2 x_3 |       | x_n x_1 |   \n",
    "    2A = |             . . .         | = |         | + |         | + ... |         |\n",
    "        | y_1 y_2 y_3       y_n y_1 |   | y_1 y_2 |   | x_2 x_3 |       | x_n x_1 |\n",
    "\n",
    "    2A = (x_1 * y_2 - x_2 * y_1) + (x_2 * y_3 - x_3 * y_2) + ... (x_n * y_1 - x_1 * y_n)   \n",
    "\n",
    "(when going counterclockwise, since we are going clockwise [inspecting input] we need to take abs() of this)\n",
    "\n",
    "We are looking for the number of points in the boundary and interior, so i = A - b/2 + 1\n",
    "and we can actually just count the boundary points by summing the lengths while parsing input\n",
    "so altogether:\n",
    "\n",
    "    i = abs( 1/2 * [(x_1 * y_2 - x_2 * y_1) + (x_2 * y_3 - x_3 * y_2) + ... (x_n * y_1 - x_1 * y_n)] ) - b/2 + 1\n",
    "\n",
    "\"\"\""
   ]
  },
  {
   "cell_type": "code",
   "execution_count": 8,
   "metadata": {},
   "outputs": [],
   "source": [
    "def parseP2GetCoords(inp):\n",
    "    res = []\n",
    "    dir = {\n",
    "        \"0\": \"R\", \n",
    "        \"1\": \"D\", \n",
    "        \"2\": \"L\", \n",
    "        \"3\": \"U\"\n",
    "    }\n",
    "    for row in inp:\n",
    "        _,_,color = row.split(\" \")\n",
    "        hexcode = color[2:-1]\n",
    "        inst = dir[hexcode[-1]]\n",
    "        quant = int(hexcode[:-1], 16)\n",
    "        res.append([inst, quant])\n",
    "    x, y = 0, 0\n",
    "    minx, maxx, miny, maxy = 999_999_999, 0, 999_999_999, 0\n",
    "    for dir, quant in res:\n",
    "        if dir == \"R\":      y += quant\n",
    "        elif dir == \"L\":    y -= quant\n",
    "        elif dir == \"U\":    x -= quant\n",
    "        elif dir == \"D\":    x += quant\n",
    "\n",
    "        miny = min(miny, y)\n",
    "        maxy = max(maxy, y)\n",
    "        minx = min(minx, x)\n",
    "        maxx = max(maxx, x)\n",
    "    return res, (minx, maxx, miny, maxy)\n",
    "\n",
    "def getCoords(inst, dims, start):\n",
    "    sx, sy = start\n",
    "    boundaryPoints = 0\n",
    "    res = [(start)]\n",
    "    unit = {\n",
    "        \"R\": (0,1), \n",
    "        \"D\": (1,0), \n",
    "        \"L\": (0,-1), \n",
    "        \"U\": (-1,0)\n",
    "    }\n",
    "    for dir, magnitude in inst:\n",
    "        boundaryPoints += magnitude\n",
    "        prev = res[-1]\n",
    "        dx, dy = unit[dir]\n",
    "        xx = prev[0] + magnitude * dx\n",
    "        yy = prev[1] + magnitude * dy\n",
    "        res.append((xx,yy))\n",
    "    return boundaryPoints, res\n",
    "    \n",
    "def picksShoelace(b, points):\n",
    "    # shoelace formula\n",
    "    tmp = 0\n",
    "    points.append(points[0])\n",
    "    for i, (x,y) in enumerate(points[:-1]):\n",
    "        xx, yy = points[i+1]\n",
    "        tmp += x * yy - y * xx\n",
    "    A = abs(tmp) // 2\n",
    "\n",
    "    # picks thm\n",
    "    i = A -( (b) // 2) +1\n",
    "    return i + b\n",
    "\n",
    "def p2attempt2(inp):\n",
    "    # Let's try Shoelace Formula + Pick's Thm\n",
    "    inst, dims = parseP2GetCoords(inp)\n",
    "    (minx, maxx, miny, maxy) = dims\n",
    "    maxWidth = maxy - miny + 3\n",
    "    maxHeight = maxx - minx + 3\n",
    "    # print(f\"X: {minx} - {maxx}, so height of {maxHeight}\")\n",
    "    # print(f\"Y: {miny} - {maxy}, so width of {maxWidth}\")\n",
    "    start = (abs(minx)+1, abs(miny)+1)\n",
    "    boundaryCount, vertices = getCoords(inst, dims, start)\n",
    "    return picksShoelace(boundaryCount, vertices)\n",
    "\n"
   ]
  },
  {
   "cell_type": "code",
   "execution_count": 9,
   "metadata": {},
   "outputs": [
    {
     "data": {
      "text/plain": [
       "952408144115"
      ]
     },
     "execution_count": 9,
     "metadata": {},
     "output_type": "execute_result"
    }
   ],
   "source": [
    "# expected output: 952408144115\n",
    "p2attempt2(TEST)"
   ]
  },
  {
   "cell_type": "code",
   "execution_count": 10,
   "metadata": {},
   "outputs": [
    {
     "data": {
      "text/plain": [
       "102000662718092"
      ]
     },
     "execution_count": 10,
     "metadata": {},
     "output_type": "execute_result"
    }
   ],
   "source": [
    "p2attempt2(A)"
   ]
  }
 ],
 "metadata": {
  "kernelspec": {
   "display_name": "base",
   "language": "python",
   "name": "python3"
  },
  "language_info": {
   "codemirror_mode": {
    "name": "ipython",
    "version": 3
   },
   "file_extension": ".py",
   "mimetype": "text/x-python",
   "name": "python",
   "nbconvert_exporter": "python",
   "pygments_lexer": "ipython3",
   "version": "3.11.0"
  }
 },
 "nbformat": 4,
 "nbformat_minor": 2
}
