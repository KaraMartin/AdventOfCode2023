{
 "cells": [
  {
   "cell_type": "code",
   "execution_count": 1,
   "metadata": {},
   "outputs": [
    {
     "name": "stdout",
     "output_type": "stream",
     "text": [
      "0:\tR 6 (#70c710)\n",
      "1:\tD 5 (#0dc571)\n",
      "2:\tL 2 (#5713f0)\n",
      "3:\tD 2 (#d2c081)\n",
      "4:\tR 2 (#59c680)\n",
      "5:\tD 2 (#411b91)\n",
      "6:\tL 5 (#8ceee2)\n",
      "7:\tU 2 (#caa173)\n",
      "8:\tL 1 (#1b58a2)\n",
      "9:\tU 2 (#caa171)\n",
      "10:\tR 2 (#7807d2)\n",
      "11:\tU 3 (#a77fa3)\n",
      "12:\tL 2 (#015232)\n",
      "13:\tU 2 (#7a21e3)\n"
     ]
    }
   ],
   "source": [
    "# Advent of Code 2023\n",
    "# Day 18 Problem 1\n",
    "import re\n",
    "from collections import Counter\n",
    "import functools\n",
    "\n",
    "with open(\"aoc_18_input.txt\") as f:\n",
    "    A = f.read().strip().split(\"\\n\")\n",
    "\n",
    "# c+p test case here\n",
    "TEST = \"\"\"R 6 (#70c710)\n",
    "D 5 (#0dc571)\n",
    "L 2 (#5713f0)\n",
    "D 2 (#d2c081)\n",
    "R 2 (#59c680)\n",
    "D 2 (#411b91)\n",
    "L 5 (#8ceee2)\n",
    "U 2 (#caa173)\n",
    "L 1 (#1b58a2)\n",
    "U 2 (#caa171)\n",
    "R 2 (#7807d2)\n",
    "U 3 (#a77fa3)\n",
    "L 2 (#015232)\n",
    "U 2 (#7a21e3)\"\"\".strip().split(\"\\n\")\n",
    "\n",
    "for i, line in enumerate(TEST):\n",
    "    print(f\"{i}:\\t{line}\")"
   ]
  },
  {
   "cell_type": "code",
   "execution_count": 20,
   "metadata": {},
   "outputs": [],
   "source": [
    "def parse(inp):\n",
    "    res = []\n",
    "    for row in inp:\n",
    "        a,b,c = row.split(\" \")\n",
    "        res.append([a, int(b)])\n",
    "    x, y = 0, 0\n",
    "    minx, maxx, miny, maxy = 999_999_999, 0, 999_999_999, 0\n",
    "    for dir, quant in res:\n",
    "        if dir == \"R\":\n",
    "            y += quant\n",
    "        elif dir == \"L\":\n",
    "            y -= quant\n",
    "        elif dir == \"U\":\n",
    "            x -= quant\n",
    "        elif dir == \"D\":\n",
    "            x += quant\n",
    "\n",
    "        miny = min(miny, y)\n",
    "        maxy = max(maxy, y)\n",
    "        minx = min(minx, x)\n",
    "        maxx = max(maxx, x)\n",
    "    return res, (minx, maxx, miny, maxy)\n",
    "\n",
    "def printMap(M):\n",
    "    for row in M:\n",
    "        print(\"\".join(row))\n",
    "    print()\n",
    "\n",
    "# core of this is from day10 part2\n",
    "def floodOutside(tap, start):\n",
    "    queue = [[start[0],start[1]]]\n",
    "    H, W = len(tap)-1, len(tap[0])-1\n",
    "    while queue:\n",
    "        nx,ny = queue.pop()\n",
    "        tap[nx] = tap[nx][:ny] + [\" \"] + tap[nx][ny+1:]\n",
    "        if nx > 0 and tap[nx-1][ny] == \".\":     queue.append([nx-1,ny])\n",
    "        if ny > 0 and tap[nx][ny-1] == \".\":     queue.append([nx,ny-1])\n",
    "        if nx < H and tap[nx+1][ny] == \".\":     queue.append([nx+1,ny])\n",
    "        if ny < W and tap[nx][ny+1] == \".\":     queue.append([nx,ny+1])\n",
    "    return tap\n",
    "    \n",
    "def buildMap(directions, height, width, start):\n",
    "    M = [[\".\" for _ in range(width)] for _ in range(height)]\n",
    "    currX, currY = start\n",
    "    M[currX][currY] = \"#\"\n",
    "    dd = {\n",
    "        \"R\": (0,1), \n",
    "        \"L\": (0,-1),\n",
    "        \"U\": (-1,0),\n",
    "        \"D\": (1,0)\n",
    "        }\n",
    "    \n",
    "    for dir, length in directions:\n",
    "        dx, dy = dd[dir]\n",
    "        for _ in range(length):\n",
    "            currX += dx\n",
    "            currY += dy\n",
    "            M[currX][currY] = \"#\"\n",
    "    # printMap(M)\n",
    "    return M\n",
    "\n",
    "def countInside(M):\n",
    "    res = 0\n",
    "    for row in M:\n",
    "        res += row.count(\".\")\n",
    "        res += row.count(\"#\")\n",
    "    return res\n",
    "\n",
    "def p1(inp):\n",
    "    inst, dims = parse(inp)\n",
    "    (minx, maxx, miny, maxy) = dims\n",
    "    maxWidth = maxy - miny + 3\n",
    "    maxHeight = maxx - minx + 3\n",
    "    # print(f\"X: {minx} - {maxx}, so height of {maxHeight}\")\n",
    "    # print(f\"Y: {miny} - {maxy}, so width of {maxWidth}\")\n",
    "    start = (abs(minx)+1, abs(miny)+1)\n",
    "    mapWithBorder = buildMap(inst, maxHeight, maxWidth, start)\n",
    "    emptyOutside = floodOutside(mapWithBorder, (0,0))\n",
    "    # printMap(emptyOutside)\n",
    "    return countInside(emptyOutside)\n",
    "    "
   ]
  },
  {
   "cell_type": "code",
   "execution_count": 21,
   "metadata": {},
   "outputs": [
    {
     "data": {
      "text/plain": [
       "62"
      ]
     },
     "execution_count": 21,
     "metadata": {},
     "output_type": "execute_result"
    }
   ],
   "source": [
    "# expected output: 62\n",
    "p1(TEST)"
   ]
  },
  {
   "cell_type": "code",
   "execution_count": 22,
   "metadata": {},
   "outputs": [
    {
     "data": {
      "text/plain": [
       "46334"
      ]
     },
     "execution_count": 22,
     "metadata": {},
     "output_type": "execute_result"
    }
   ],
   "source": [
    "p1(A)"
   ]
  },
  {
   "cell_type": "code",
   "execution_count": 43,
   "metadata": {},
   "outputs": [],
   "source": [
    "def parseP2(inp):\n",
    "    res = []\n",
    "    dir = {\n",
    "        \"0\": \"R\", \n",
    "        \"1\": \"D\", \n",
    "        \"2\": \"L\", \n",
    "        \"3\": \"U\"\n",
    "    }\n",
    "    for row in inp:\n",
    "        a,b,c = row.split(\" \")\n",
    "        hexcode = c[2:-1]\n",
    "        inst = dir[hexcode[-1]]\n",
    "        quant = int(hexcode[:-1], 16)\n",
    "        res.append([inst, quant])\n",
    "    x, y = 0, 0\n",
    "    minx, maxx, miny, maxy = 999_999_999, 0, 999_999_999, 0\n",
    "    for dir, quant in res:\n",
    "        if dir == \"R\":\n",
    "            y += quant\n",
    "        elif dir == \"L\":\n",
    "            y -= quant\n",
    "        elif dir == \"U\":\n",
    "            x -= quant\n",
    "        elif dir == \"D\":\n",
    "            x += quant\n",
    "\n",
    "        miny = min(miny, y)\n",
    "        maxy = max(maxy, y)\n",
    "        minx = min(minx, x)\n",
    "        maxx = max(maxx, x)\n",
    "    return res, (minx, maxx, miny, maxy)\n",
    "\n",
    "def p2(inp):\n",
    "    # let's try a naive approach I guess?\n",
    "    inst, dims = parseP2(inp)\n",
    "    (minx, maxx, miny, maxy) = dims\n",
    "    maxWidth = maxy - miny + 3\n",
    "    maxHeight = maxx - minx + 3\n",
    "    print(f\"X: {minx} - {maxx}, so height of {maxHeight}\")\n",
    "    print(f\"Y: {miny} - {maxy}, so width of {maxWidth}\")\n",
    "    start = (abs(minx)+1, abs(miny)+1)\n",
    "    mapWithBorder = buildMap(inst, maxHeight, maxWidth, start)\n",
    "    print(f\"Done with buildMap()\")\n",
    "    emptyOutside = floodOutside(mapWithBorder, (0,0))\n",
    "    # printMap(emptyOutside)\n",
    "    return countInside(emptyOutside)"
   ]
  },
  {
   "cell_type": "code",
   "execution_count": 45,
   "metadata": {},
   "outputs": [
    {
     "name": "stdout",
     "output_type": "stream",
     "text": [
      "X: 0 - 1186328, so height of 1186331\n",
      "Y: 0 - 1186328, so width of 1186331\n"
     ]
    },
    {
     "ename": "KeyboardInterrupt",
     "evalue": "",
     "output_type": "error",
     "traceback": [
      "\u001b[1;31m---------------------------------------------------------------------------\u001b[0m",
      "\u001b[1;31mKeyboardInterrupt\u001b[0m                         Traceback (most recent call last)",
      "Cell \u001b[1;32mIn[45], line 2\u001b[0m\n\u001b[0;32m      1\u001b[0m \u001b[38;5;66;03m# expected output: 952408144115\u001b[39;00m\n\u001b[1;32m----> 2\u001b[0m \u001b[43mp2\u001b[49m\u001b[43m(\u001b[49m\u001b[43mTEST\u001b[49m\u001b[43m)\u001b[49m\n",
      "Cell \u001b[1;32mIn[43], line 42\u001b[0m, in \u001b[0;36mp2\u001b[1;34m(inp)\u001b[0m\n\u001b[0;32m     40\u001b[0m \u001b[38;5;28mprint\u001b[39m(\u001b[38;5;124mf\u001b[39m\u001b[38;5;124m\"\u001b[39m\u001b[38;5;124mY: \u001b[39m\u001b[38;5;132;01m{\u001b[39;00mminy\u001b[38;5;132;01m}\u001b[39;00m\u001b[38;5;124m - \u001b[39m\u001b[38;5;132;01m{\u001b[39;00mmaxy\u001b[38;5;132;01m}\u001b[39;00m\u001b[38;5;124m, so width of \u001b[39m\u001b[38;5;132;01m{\u001b[39;00mmaxWidth\u001b[38;5;132;01m}\u001b[39;00m\u001b[38;5;124m\"\u001b[39m)\n\u001b[0;32m     41\u001b[0m start \u001b[38;5;241m=\u001b[39m (\u001b[38;5;28mabs\u001b[39m(minx)\u001b[38;5;241m+\u001b[39m\u001b[38;5;241m1\u001b[39m, \u001b[38;5;28mabs\u001b[39m(miny)\u001b[38;5;241m+\u001b[39m\u001b[38;5;241m1\u001b[39m)\n\u001b[1;32m---> 42\u001b[0m mapWithBorder \u001b[38;5;241m=\u001b[39m \u001b[43mbuildMap\u001b[49m\u001b[43m(\u001b[49m\u001b[43minst\u001b[49m\u001b[43m,\u001b[49m\u001b[43m \u001b[49m\u001b[43mmaxHeight\u001b[49m\u001b[43m,\u001b[49m\u001b[43m \u001b[49m\u001b[43mmaxWidth\u001b[49m\u001b[43m,\u001b[49m\u001b[43m \u001b[49m\u001b[43mstart\u001b[49m\u001b[43m)\u001b[49m\n\u001b[0;32m     43\u001b[0m \u001b[38;5;28mprint\u001b[39m(\u001b[38;5;124mf\u001b[39m\u001b[38;5;124m\"\u001b[39m\u001b[38;5;124mDone with buildMap()\u001b[39m\u001b[38;5;124m\"\u001b[39m)\n\u001b[0;32m     44\u001b[0m emptyOutside \u001b[38;5;241m=\u001b[39m floodOutside(mapWithBorder, (\u001b[38;5;241m0\u001b[39m,\u001b[38;5;241m0\u001b[39m))\n",
      "Cell \u001b[1;32mIn[20], line 43\u001b[0m, in \u001b[0;36mbuildMap\u001b[1;34m(directions, height, width, start)\u001b[0m\n\u001b[0;32m     42\u001b[0m \u001b[38;5;28;01mdef\u001b[39;00m \u001b[38;5;21mbuildMap\u001b[39m(directions, height, width, start):\n\u001b[1;32m---> 43\u001b[0m     M \u001b[38;5;241m=\u001b[39m \u001b[43m[\u001b[49m\u001b[43m[\u001b[49m\u001b[38;5;124;43m\"\u001b[39;49m\u001b[38;5;124;43m.\u001b[39;49m\u001b[38;5;124;43m\"\u001b[39;49m\u001b[43m \u001b[49m\u001b[38;5;28;43;01mfor\u001b[39;49;00m\u001b[43m \u001b[49m\u001b[43m_\u001b[49m\u001b[43m \u001b[49m\u001b[38;5;129;43;01min\u001b[39;49;00m\u001b[43m \u001b[49m\u001b[38;5;28;43mrange\u001b[39;49m\u001b[43m(\u001b[49m\u001b[43mwidth\u001b[49m\u001b[43m)\u001b[49m\u001b[43m]\u001b[49m\u001b[43m \u001b[49m\u001b[38;5;28;43;01mfor\u001b[39;49;00m\u001b[43m \u001b[49m\u001b[43m_\u001b[49m\u001b[43m \u001b[49m\u001b[38;5;129;43;01min\u001b[39;49;00m\u001b[43m \u001b[49m\u001b[38;5;28;43mrange\u001b[39;49m\u001b[43m(\u001b[49m\u001b[43mheight\u001b[49m\u001b[43m)\u001b[49m\u001b[43m]\u001b[49m\n\u001b[0;32m     44\u001b[0m     currX, currY \u001b[38;5;241m=\u001b[39m start\n\u001b[0;32m     45\u001b[0m     M[currX][currY] \u001b[38;5;241m=\u001b[39m \u001b[38;5;124m\"\u001b[39m\u001b[38;5;124m#\u001b[39m\u001b[38;5;124m\"\u001b[39m\n",
      "Cell \u001b[1;32mIn[20], line 43\u001b[0m, in \u001b[0;36m<listcomp>\u001b[1;34m(.0)\u001b[0m\n\u001b[0;32m     42\u001b[0m \u001b[38;5;28;01mdef\u001b[39;00m \u001b[38;5;21mbuildMap\u001b[39m(directions, height, width, start):\n\u001b[1;32m---> 43\u001b[0m     M \u001b[38;5;241m=\u001b[39m [\u001b[43m[\u001b[49m\u001b[38;5;124;43m\"\u001b[39;49m\u001b[38;5;124;43m.\u001b[39;49m\u001b[38;5;124;43m\"\u001b[39;49m\u001b[43m \u001b[49m\u001b[38;5;28;43;01mfor\u001b[39;49;00m\u001b[43m \u001b[49m\u001b[43m_\u001b[49m\u001b[43m \u001b[49m\u001b[38;5;129;43;01min\u001b[39;49;00m\u001b[43m \u001b[49m\u001b[38;5;28;43mrange\u001b[39;49m\u001b[43m(\u001b[49m\u001b[43mwidth\u001b[49m\u001b[43m)\u001b[49m\u001b[43m]\u001b[49m \u001b[38;5;28;01mfor\u001b[39;00m _ \u001b[38;5;129;01min\u001b[39;00m \u001b[38;5;28mrange\u001b[39m(height)]\n\u001b[0;32m     44\u001b[0m     currX, currY \u001b[38;5;241m=\u001b[39m start\n\u001b[0;32m     45\u001b[0m     M[currX][currY] \u001b[38;5;241m=\u001b[39m \u001b[38;5;124m\"\u001b[39m\u001b[38;5;124m#\u001b[39m\u001b[38;5;124m\"\u001b[39m\n",
      "Cell \u001b[1;32mIn[20], line 43\u001b[0m, in \u001b[0;36m<listcomp>\u001b[1;34m(.0)\u001b[0m\n\u001b[0;32m     42\u001b[0m \u001b[38;5;28;01mdef\u001b[39;00m \u001b[38;5;21mbuildMap\u001b[39m(directions, height, width, start):\n\u001b[1;32m---> 43\u001b[0m     M \u001b[38;5;241m=\u001b[39m [[\u001b[38;5;124m\"\u001b[39m\u001b[38;5;124m.\u001b[39m\u001b[38;5;124m\"\u001b[39m \u001b[38;5;28;01mfor\u001b[39;00m _ \u001b[38;5;129;01min\u001b[39;00m \u001b[38;5;28mrange\u001b[39m(width)] \u001b[38;5;28;01mfor\u001b[39;00m _ \u001b[38;5;129;01min\u001b[39;00m \u001b[38;5;28mrange\u001b[39m(height)]\n\u001b[0;32m     44\u001b[0m     currX, currY \u001b[38;5;241m=\u001b[39m start\n\u001b[0;32m     45\u001b[0m     M[currX][currY] \u001b[38;5;241m=\u001b[39m \u001b[38;5;124m\"\u001b[39m\u001b[38;5;124m#\u001b[39m\u001b[38;5;124m\"\u001b[39m\n",
      "\u001b[1;31mKeyboardInterrupt\u001b[0m: "
     ]
    }
   ],
   "source": [
    "# expected output: 952408144115\n",
    "# this currently doesn't halt in a minute\n",
    "#p2(TEST)"
   ]
  },
  {
   "cell_type": "code",
   "execution_count": null,
   "metadata": {},
   "outputs": [],
   "source": []
  }
 ],
 "metadata": {
  "kernelspec": {
   "display_name": "base",
   "language": "python",
   "name": "python3"
  },
  "language_info": {
   "codemirror_mode": {
    "name": "ipython",
    "version": 3
   },
   "file_extension": ".py",
   "mimetype": "text/x-python",
   "name": "python",
   "nbconvert_exporter": "python",
   "pygments_lexer": "ipython3",
   "version": "3.11.0"
  }
 },
 "nbformat": 4,
 "nbformat_minor": 2
}
